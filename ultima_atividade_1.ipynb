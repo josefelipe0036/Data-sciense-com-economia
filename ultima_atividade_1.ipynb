{
 "cells": [
  {
   "cell_type": "code",
   "execution_count": 1,
   "id": "1e94aff5",
   "metadata": {},
   "outputs": [],
   "source": [
    "\n",
    "import pandas as pd\n",
    "import numpy as np\n",
    "import matplotlib.pyplot as plt\n",
    "import plotly.express as px\n",
    "# !pip install mlrose\n",
    "import six\n",
    "import sys\n",
    "sys.modules['sklearn.externals.six'] = six\n",
    "import mlrose as ml"
   ]
  },
  {
   "cell_type": "code",
   "execution_count": 2,
   "id": "7af57d92",
   "metadata": {},
   "outputs": [],
   "source": [
    "dataset_original = pd.read_csv('acoes.csv')\n",
    "dinheiro_total = 5000"
   ]
  },
  {
   "cell_type": "code",
   "execution_count": 5,
   "id": "5c675e06",
   "metadata": {},
   "outputs": [],
   "source": [
    "def alocacao_ativos(dataset, dinheiro_total, seed = 0, melhores_pesos = []):\n",
    "  dataset = dataset.copy()\n",
    "\n",
    "  if seed != 0:\n",
    "    np.random.seed(seed)\n",
    "\n",
    "  if len(melhores_pesos) > 0:\n",
    "    pesos = melhores_pesos\n",
    "  else:  \n",
    "    pesos = np.random.random(len(dataset.columns) - 1)\n",
    "    #print(pesos, pesos.sum())\n",
    "    pesos = pesos / pesos.sum()\n",
    "    #print(pesos, pesos.sum())\n",
    "\n",
    "  colunas = dataset.columns[1:]\n",
    "  #print(colunas)\n",
    "  for i in colunas:\n",
    "    dataset[i] = (dataset[i] / dataset[i][0])\n",
    "\n",
    "  for i, acao in enumerate(dataset.columns[1:]):\n",
    "    #print(i, acao)\n",
    "    dataset[acao] = dataset[acao] * pesos[i] * dinheiro_total\n",
    "  \n",
    "  dataset['soma valor'] = dataset.sum(axis = 1)\n",
    "\n",
    "  datas = dataset['Date']\n",
    "  #print(datas)\n",
    "\n",
    "  dataset.drop(labels = ['Date'], axis = 1, inplace = True)\n",
    "  dataset['taxa retorno'] = 0.0\n",
    "\n",
    "  for i in range(1, len(dataset)):\n",
    "    dataset['taxa retorno'][i] = ((dataset['soma valor'][i] / dataset['soma valor'][i - 1]) - 1) * 100\n",
    "\n",
    "  acoes_pesos = pd.DataFrame(data = {'Ações': colunas, 'Pesos': pesos * 100})\n",
    "\n",
    "  return dataset, datas, acoes_pesos, dataset.loc[len(dataset) - 1]['soma valor']"
   ]
  },
  {
   "cell_type": "code",
   "execution_count": 6,
   "id": "5b75882c",
   "metadata": {},
   "outputs": [],
   "source": [
    "dataset, datas, acoes_pesos, soma_valor = alocacao_ativos(pd.read_csv('acoes.csv'), 5000, 10)"
   ]
  },
  {
   "cell_type": "code",
   "execution_count": 7,
   "id": "a11c11db",
   "metadata": {},
   "outputs": [
    {
     "data": {
      "text/html": [
       "<div>\n",
       "<style scoped>\n",
       "    .dataframe tbody tr th:only-of-type {\n",
       "        vertical-align: middle;\n",
       "    }\n",
       "\n",
       "    .dataframe tbody tr th {\n",
       "        vertical-align: top;\n",
       "    }\n",
       "\n",
       "    .dataframe thead th {\n",
       "        text-align: right;\n",
       "    }\n",
       "</style>\n",
       "<table border=\"1\" class=\"dataframe\">\n",
       "  <thead>\n",
       "    <tr style=\"text-align: right;\">\n",
       "      <th></th>\n",
       "      <th>AZUL4.SA</th>\n",
       "      <th>COGN3.SA</th>\n",
       "      <th>IGTA3.SA</th>\n",
       "      <th>MRFG3.SA</th>\n",
       "      <th>VVAR3.SA</th>\n",
       "      <th>soma valor</th>\n",
       "      <th>taxa retorno</th>\n",
       "    </tr>\n",
       "  </thead>\n",
       "  <tbody>\n",
       "    <tr>\n",
       "      <th>0</th>\n",
       "      <td>1442.782435</td>\n",
       "      <td>38.817252</td>\n",
       "      <td>1185.261345</td>\n",
       "      <td>1400.664041</td>\n",
       "      <td>932.474927</td>\n",
       "      <td>5000.000000</td>\n",
       "      <td>0.000000</td>\n",
       "    </tr>\n",
       "    <tr>\n",
       "      <th>1</th>\n",
       "      <td>1478.851962</td>\n",
       "      <td>39.073003</td>\n",
       "      <td>1187.059893</td>\n",
       "      <td>1440.826413</td>\n",
       "      <td>990.754610</td>\n",
       "      <td>5136.565881</td>\n",
       "      <td>2.731318</td>\n",
       "    </tr>\n",
       "    <tr>\n",
       "      <th>2</th>\n",
       "      <td>1480.784304</td>\n",
       "      <td>38.447834</td>\n",
       "      <td>1187.059893</td>\n",
       "      <td>1423.255435</td>\n",
       "      <td>990.754610</td>\n",
       "      <td>5120.302077</td>\n",
       "      <td>-0.316628</td>\n",
       "    </tr>\n",
       "    <tr>\n",
       "      <th>3</th>\n",
       "      <td>1471.766953</td>\n",
       "      <td>39.953923</td>\n",
       "      <td>1219.074517</td>\n",
       "      <td>1465.928015</td>\n",
       "      <td>979.098629</td>\n",
       "      <td>5175.822037</td>\n",
       "      <td>1.084310</td>\n",
       "    </tr>\n",
       "    <tr>\n",
       "      <th>4</th>\n",
       "      <td>1540.041446</td>\n",
       "      <td>40.209671</td>\n",
       "      <td>1219.434309</td>\n",
       "      <td>1523.661484</td>\n",
       "      <td>1023.391202</td>\n",
       "      <td>5346.738112</td>\n",
       "      <td>3.302202</td>\n",
       "    </tr>\n",
       "    <tr>\n",
       "      <th>...</th>\n",
       "      <td>...</td>\n",
       "      <td>...</td>\n",
       "      <td>...</td>\n",
       "      <td>...</td>\n",
       "      <td>...</td>\n",
       "      <td>...</td>\n",
       "      <td>...</td>\n",
       "    </tr>\n",
       "    <tr>\n",
       "      <th>1069</th>\n",
       "      <td>2430.830912</td>\n",
       "      <td>10.116356</td>\n",
       "      <td>1444.256258</td>\n",
       "      <td>4784.346994</td>\n",
       "      <td>2855.704465</td>\n",
       "      <td>11525.254986</td>\n",
       "      <td>-2.246141</td>\n",
       "    </tr>\n",
       "    <tr>\n",
       "      <th>1070</th>\n",
       "      <td>2433.407123</td>\n",
       "      <td>9.889022</td>\n",
       "      <td>1422.313614</td>\n",
       "      <td>4726.613645</td>\n",
       "      <td>2834.723744</td>\n",
       "      <td>11426.947147</td>\n",
       "      <td>-0.852978</td>\n",
       "    </tr>\n",
       "    <tr>\n",
       "      <th>1071</th>\n",
       "      <td>2445.645167</td>\n",
       "      <td>9.974272</td>\n",
       "      <td>1421.234375</td>\n",
       "      <td>4726.613645</td>\n",
       "      <td>2879.016428</td>\n",
       "      <td>11482.483886</td>\n",
       "      <td>0.486016</td>\n",
       "    </tr>\n",
       "    <tr>\n",
       "      <th>1072</th>\n",
       "      <td>2445.645167</td>\n",
       "      <td>9.889022</td>\n",
       "      <td>1433.464695</td>\n",
       "      <td>4899.814173</td>\n",
       "      <td>2962.939091</td>\n",
       "      <td>11751.752148</td>\n",
       "      <td>2.345035</td>\n",
       "    </tr>\n",
       "    <tr>\n",
       "      <th>1073</th>\n",
       "      <td>2449.509605</td>\n",
       "      <td>10.087939</td>\n",
       "      <td>1402.888965</td>\n",
       "      <td>4867.181947</td>\n",
       "      <td>3007.231552</td>\n",
       "      <td>11736.900008</td>\n",
       "      <td>-0.126382</td>\n",
       "    </tr>\n",
       "  </tbody>\n",
       "</table>\n",
       "<p>1074 rows × 7 columns</p>\n",
       "</div>"
      ],
      "text/plain": [
       "         AZUL4.SA   COGN3.SA     IGTA3.SA     MRFG3.SA     VVAR3.SA  \\\n",
       "0     1442.782435  38.817252  1185.261345  1400.664041   932.474927   \n",
       "1     1478.851962  39.073003  1187.059893  1440.826413   990.754610   \n",
       "2     1480.784304  38.447834  1187.059893  1423.255435   990.754610   \n",
       "3     1471.766953  39.953923  1219.074517  1465.928015   979.098629   \n",
       "4     1540.041446  40.209671  1219.434309  1523.661484  1023.391202   \n",
       "...           ...        ...          ...          ...          ...   \n",
       "1069  2430.830912  10.116356  1444.256258  4784.346994  2855.704465   \n",
       "1070  2433.407123   9.889022  1422.313614  4726.613645  2834.723744   \n",
       "1071  2445.645167   9.974272  1421.234375  4726.613645  2879.016428   \n",
       "1072  2445.645167   9.889022  1433.464695  4899.814173  2962.939091   \n",
       "1073  2449.509605  10.087939  1402.888965  4867.181947  3007.231552   \n",
       "\n",
       "        soma valor  taxa retorno  \n",
       "0      5000.000000      0.000000  \n",
       "1      5136.565881      2.731318  \n",
       "2      5120.302077     -0.316628  \n",
       "3      5175.822037      1.084310  \n",
       "4      5346.738112      3.302202  \n",
       "...            ...           ...  \n",
       "1069  11525.254986     -2.246141  \n",
       "1070  11426.947147     -0.852978  \n",
       "1071  11482.483886      0.486016  \n",
       "1072  11751.752148      2.345035  \n",
       "1073  11736.900008     -0.126382  \n",
       "\n",
       "[1074 rows x 7 columns]"
      ]
     },
     "execution_count": 7,
     "metadata": {},
     "output_type": "execute_result"
    }
   ],
   "source": [
    "dataset"
   ]
  },
  {
   "cell_type": "code",
   "execution_count": 8,
   "id": "81880000",
   "metadata": {},
   "outputs": [],
   "source": [
    "def fitness_function(solucao):\n",
    "  dataset = dataset_original.copy()\n",
    "  pesos = solucao / solucao.sum()\n",
    "\n",
    "  for i in dataset.columns[1:]:\n",
    "    dataset[i] = (dataset[i] / dataset[i][0])\n",
    "\n",
    "  for i, acao in enumerate(dataset.columns[1:]):\n",
    "    dataset[acao] = dataset[acao] * pesos[i] * dinheiro_total\n",
    "\n",
    "  dataset.drop(labels = ['Date'], axis = 1, inplace=True)\n",
    "  dataset['soma valor'] = dataset.sum(axis = 1)\n",
    "  dataset['taxa retorno'] = 0.0\n",
    "\n",
    "  for i in range(1, len(dataset)):\n",
    "    dataset['taxa retorno'][i] = ((dataset['soma valor'][i] / dataset['soma valor'][i - 1]) - 1) * 100\n",
    "\n",
    "  sharpe_ratio = (dataset['taxa retorno'].mean()) / dataset['taxa retorno'].std() * np.sqrt(246)\n",
    "\n",
    "  return sharpe_ratio"
   ]
  },
  {
   "cell_type": "code",
   "execution_count": 9,
   "id": "51cd0b3e",
   "metadata": {},
   "outputs": [
    {
     "data": {
      "text/plain": [
       "array([0.28855649, 0.00776345, 0.23705227, 0.28013281, 0.18649499])"
      ]
     },
     "execution_count": 9,
     "metadata": {},
     "output_type": "execute_result"
    }
   ],
   "source": [
    "np.random.seed(10)\n",
    "pesos = np.random.random(len(dataset_original.columns) - 1)\n",
    "pesos = pesos / pesos.sum()\n",
    "pesos"
   ]
  },
  {
   "cell_type": "code",
   "execution_count": 10,
   "id": "98e7c116",
   "metadata": {},
   "outputs": [
    {
     "data": {
      "text/plain": [
       "0.6946528176291948"
      ]
     },
     "execution_count": 10,
     "metadata": {},
     "output_type": "execute_result"
    }
   ],
   "source": [
    "fitness_function(pesos)"
   ]
  },
  {
   "cell_type": "code",
   "execution_count": 11,
   "id": "7e1e1f01",
   "metadata": {},
   "outputs": [],
   "source": [
    "def visualiza_alocacao(solucao):\n",
    "  colunas = dataset_original.columns[1:]\n",
    "  for i in range(len(solucao)):\n",
    "    print(colunas[i], solucao[i] * 100)"
   ]
  },
  {
   "cell_type": "code",
   "execution_count": 12,
   "id": "4b973a66",
   "metadata": {},
   "outputs": [
    {
     "name": "stdout",
     "output_type": "stream",
     "text": [
      "AZUL4.SA 28.855648693014757\n",
      "COGN3.SA 0.7763450461717195\n",
      "IGTA3.SA 23.705226900893685\n",
      "MRFG3.SA 28.013280810153606\n",
      "VVAR3.SA 18.64949854976623\n"
     ]
    }
   ],
   "source": [
    "visualiza_alocacao(pesos)"
   ]
  },
  {
   "cell_type": "code",
   "execution_count": 13,
   "id": "14f51613",
   "metadata": {},
   "outputs": [],
   "source": [
    "fitness = ml.CustomFitness(fitness_function)"
   ]
  },
  {
   "cell_type": "code",
   "execution_count": 14,
   "id": "f585ad35",
   "metadata": {},
   "outputs": [],
   "source": [
    "problema_maximizacao = ml.ContinuousOpt(length=5, fitness_fn=fitness,\n",
    "                                            maximize = True, min_val = 0, max_val = 1)"
   ]
  },
  {
   "cell_type": "code",
   "execution_count": 15,
   "id": "f97acd3f",
   "metadata": {},
   "outputs": [],
   "source": [
    "problema_minimizacao = ml.ContinuousOpt(length=5, fitness_fn=fitness,\n",
    "                                            maximize = False, min_val = 0, max_val = 1)"
   ]
  },
  {
   "cell_type": "markdown",
   "id": "2a4bd51e",
   "metadata": {},
   "source": [
    "## Hill Climb"
   ]
  },
  {
   "cell_type": "code",
   "execution_count": 29,
   "id": "f8c80fe0",
   "metadata": {},
   "outputs": [
    {
     "data": {
      "text/plain": [
       "(array([0.        , 0.        , 0.        , 0.50233257, 0.14675589]),\n",
       " 0.8619845488219066)"
      ]
     },
     "execution_count": 29,
     "metadata": {},
     "output_type": "execute_result"
    }
   ],
   "source": [
    "melhor_solucao, melhor_custo = ml.hill_climb(problema_maximizacao, random_state = 1)\n",
    "melhor_solucao, melhor_custo"
   ]
  },
  {
   "cell_type": "code",
   "execution_count": 30,
   "id": "bfa57c04",
   "metadata": {},
   "outputs": [
    {
     "data": {
      "text/plain": [
       "(array([0.        , 0.        , 0.        , 0.77390464, 0.22609536]), 1.0)"
      ]
     },
     "execution_count": 30,
     "metadata": {},
     "output_type": "execute_result"
    }
   ],
   "source": [
    "melhor_solucao = melhor_solucao / melhor_solucao.sum()\n",
    "melhor_solucao, melhor_solucao.sum()"
   ]
  },
  {
   "cell_type": "code",
   "execution_count": 31,
   "id": "434f01ed",
   "metadata": {},
   "outputs": [
    {
     "name": "stdout",
     "output_type": "stream",
     "text": [
      "AZUL4.SA 0.0\n",
      "COGN3.SA 0.0\n",
      "IGTA3.SA 0.0\n",
      "MRFG3.SA 77.3904638456643\n",
      "VVAR3.SA 22.6095361543357\n"
     ]
    }
   ],
   "source": [
    "visualiza_alocacao(melhor_solucao)"
   ]
  },
  {
   "cell_type": "code",
   "execution_count": 32,
   "id": "d6fa0423",
   "metadata": {},
   "outputs": [
    {
     "data": {
      "text/plain": [
       "17092.033719382267"
      ]
     },
     "execution_count": 32,
     "metadata": {},
     "output_type": "execute_result"
    }
   ],
   "source": [
    "_, _, _, soma_valor = alocacao_ativos(pd.read_csv('acoes.csv'), 5000, melhores_pesos=melhor_solucao)\n",
    "soma_valor"
   ]
  },
  {
   "cell_type": "code",
   "execution_count": 33,
   "id": "aa133919",
   "metadata": {},
   "outputs": [
    {
     "data": {
      "text/plain": [
       "(array([0.        , 0.72032449, 0.        , 0.        , 0.        ]),\n",
       " -0.302660352831205)"
      ]
     },
     "execution_count": 33,
     "metadata": {},
     "output_type": "execute_result"
    }
   ],
   "source": [
    "pior_solucao, pior_custo = ml.hill_climb(problema_minimizacao, random_state = 1)\n",
    "pior_solucao, pior_custo"
   ]
  },
  {
   "cell_type": "code",
   "execution_count": 34,
   "id": "0df9540a",
   "metadata": {},
   "outputs": [
    {
     "data": {
      "text/plain": [
       "(array([0., 1., 0., 0., 0.]), 1.0)"
      ]
     },
     "execution_count": 34,
     "metadata": {},
     "output_type": "execute_result"
    }
   ],
   "source": [
    "pior_solucao = pior_solucao / pior_solucao.sum()\n",
    "pior_solucao, pior_solucao.sum()"
   ]
  },
  {
   "cell_type": "code",
   "execution_count": 35,
   "id": "f6b8cf54",
   "metadata": {},
   "outputs": [
    {
     "name": "stdout",
     "output_type": "stream",
     "text": [
      "AZUL4.SA 0.0\n",
      "COGN3.SA 100.0\n",
      "IGTA3.SA 0.0\n",
      "MRFG3.SA 0.0\n",
      "VVAR3.SA 0.0\n"
     ]
    }
   ],
   "source": [
    "visualiza_alocacao(pior_solucao)"
   ]
  },
  {
   "cell_type": "code",
   "execution_count": 36,
   "id": "ccd9d669",
   "metadata": {},
   "outputs": [
    {
     "data": {
      "text/plain": [
       "1299.4143455238882"
      ]
     },
     "execution_count": 36,
     "metadata": {},
     "output_type": "execute_result"
    }
   ],
   "source": [
    "_, _, _, soma_valor = alocacao_ativos(pd.read_csv('acoes.csv'), 5000, melhores_pesos=pior_solucao)\n",
    "soma_valor"
   ]
  },
  {
   "cell_type": "markdown",
   "id": "a0ea3bde",
   "metadata": {},
   "source": [
    "## Simulated Annealing"
   ]
  },
  {
   "cell_type": "code",
   "execution_count": 37,
   "id": "b908d73a",
   "metadata": {},
   "outputs": [
    {
     "data": {
      "text/plain": [
       "(array([0.        , 0.        , 0.        , 0.71428571, 0.28571429]),\n",
       " 0.860591766385172)"
      ]
     },
     "execution_count": 37,
     "metadata": {},
     "output_type": "execute_result"
    }
   ],
   "source": [
    "melhor_solucao, melhor_custo = ml.simulated_annealing(problema_maximizacao, random_state = 1)\n",
    "melhor_solucao = melhor_solucao / melhor_solucao.sum()\n",
    "melhor_solucao, melhor_custo"
   ]
  },
  {
   "cell_type": "code",
   "execution_count": 38,
   "id": "6056dc07",
   "metadata": {},
   "outputs": [
    {
     "name": "stdout",
     "output_type": "stream",
     "text": [
      "AZUL4.SA 0.0\n",
      "COGN3.SA 0.0\n",
      "IGTA3.SA 0.0\n",
      "MRFG3.SA 71.42857142857143\n",
      "VVAR3.SA 28.571428571428577\n"
     ]
    }
   ],
   "source": [
    "visualiza_alocacao(melhor_solucao)"
   ]
  },
  {
   "cell_type": "code",
   "execution_count": 39,
   "id": "eabdf652",
   "metadata": {},
   "outputs": [
    {
     "data": {
      "text/plain": [
       "17017.53676517086"
      ]
     },
     "execution_count": 39,
     "metadata": {},
     "output_type": "execute_result"
    }
   ],
   "source": [
    "_, _, _, soma_valor = alocacao_ativos(pd.read_csv('acoes.csv'), 5000, melhores_pesos=melhor_solucao)\n",
    "soma_valor"
   ]
  },
  {
   "cell_type": "markdown",
   "id": "f0cf122c",
   "metadata": {},
   "source": [
    "## Algoritmo Genético\n"
   ]
  },
  {
   "cell_type": "code",
   "execution_count": 51,
   "id": "45edeeaf",
   "metadata": {},
   "outputs": [],
   "source": [
    "problema_maximizacao_ag = ml.ContinuousOpt(length = 5, fitness_fn = fitness, \n",
    "                                               maximize = True, min_val = 0.1, max_val = 1)"
   ]
  },
  {
   "cell_type": "code",
   "execution_count": 54,
   "id": "e1b9bd94",
   "metadata": {},
   "outputs": [
    {
     "data": {
      "text/plain": [
       "(array([0.05825069, 0.06106596, 0.06199781, 0.48631548, 0.33237005]),\n",
       " 0.7974222281787174)"
      ]
     },
     "execution_count": 54,
     "metadata": {},
     "output_type": "execute_result"
    }
   ],
   "source": [
    "melhor_solucao, melhor_custo = ml.genetic_alg(problema_maximizacao_ag, random_state = 1)\n",
    "melhor_solucao = melhor_solucao / melhor_solucao.sum()\n",
    "melhor_solucao, melhor_custo"
   ]
  },
  {
   "cell_type": "code",
   "execution_count": 55,
   "id": "0f02338c",
   "metadata": {},
   "outputs": [
    {
     "name": "stdout",
     "output_type": "stream",
     "text": [
      "AZUL4.SA 5.825068649459877\n",
      "COGN3.SA 6.106596270404071\n",
      "IGTA3.SA 6.199781414327318\n",
      "MRFG3.SA 48.631548270870624\n",
      "VVAR3.SA 33.237005394938116\n"
     ]
    }
   ],
   "source": [
    "visualiza_alocacao(melhor_solucao)"
   ]
  },
  {
   "cell_type": "code",
   "execution_count": 53,
   "id": "c785225d",
   "metadata": {},
   "outputs": [
    {
     "data": {
      "text/plain": [
       "14749.71776682472"
      ]
     },
     "execution_count": 53,
     "metadata": {},
     "output_type": "execute_result"
    }
   ],
   "source": [
    "_, _, _, soma_valor = alocacao_ativos(pd.read_csv('acoes.csv'), 5000, melhores_pesos=melhor_solucao)\n",
    "soma_valor"
   ]
  },
  {
   "cell_type": "code",
   "execution_count": null,
   "id": "a2cc3fc1",
   "metadata": {},
   "outputs": [],
   "source": []
  },
  {
   "cell_type": "code",
   "execution_count": null,
   "id": "f2372619",
   "metadata": {},
   "outputs": [],
   "source": []
  }
 ],
 "metadata": {
  "kernelspec": {
   "display_name": "Python 3",
   "language": "python",
   "name": "python3"
  },
  "language_info": {
   "codemirror_mode": {
    "name": "ipython",
    "version": 3
   },
   "file_extension": ".py",
   "mimetype": "text/x-python",
   "name": "python",
   "nbconvert_exporter": "python",
   "pygments_lexer": "ipython3",
   "version": "3.8.8"
  }
 },
 "nbformat": 4,
 "nbformat_minor": 5
}
