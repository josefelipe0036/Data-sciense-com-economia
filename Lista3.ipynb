{
 "cells": [
  {
   "cell_type": "markdown",
   "id": "99e83036",
   "metadata": {},
   "source": [
    "# Terceiro programa"
   ]
  },
  {
   "cell_type": "code",
   "execution_count": 1,
   "id": "c0bb5f9a",
   "metadata": {},
   "outputs": [],
   "source": [
    "#importando as bibliotecas\n",
    "import pandas as pd\n",
    "import numpy as np\n",
    "import math\n",
    "import matplotlib.pyplot as plt\n",
    "import seaborn as sns\n",
    "from scipy import stats"
   ]
  },
  {
   "cell_type": "code",
   "execution_count": 2,
   "id": "f664bf21",
   "metadata": {},
   "outputs": [
    {
     "data": {
      "text/html": [
       "<div>\n",
       "<style scoped>\n",
       "    .dataframe tbody tr th:only-of-type {\n",
       "        vertical-align: middle;\n",
       "    }\n",
       "\n",
       "    .dataframe tbody tr th {\n",
       "        vertical-align: top;\n",
       "    }\n",
       "\n",
       "    .dataframe thead th {\n",
       "        text-align: right;\n",
       "    }\n",
       "</style>\n",
       "<table border=\"1\" class=\"dataframe\">\n",
       "  <thead>\n",
       "    <tr style=\"text-align: right;\">\n",
       "      <th></th>\n",
       "      <th>Date</th>\n",
       "      <th>AZUL4.SA</th>\n",
       "      <th>COGN3.SA</th>\n",
       "      <th>IGTA3.SA</th>\n",
       "      <th>MRFG3.SA</th>\n",
       "      <th>^IXIC</th>\n",
       "    </tr>\n",
       "  </thead>\n",
       "  <tbody>\n",
       "    <tr>\n",
       "      <th>0</th>\n",
       "      <td>2017-04-11</td>\n",
       "      <td>22.400000</td>\n",
       "      <td>13.66</td>\n",
       "      <td>32.950001</td>\n",
       "      <td>5.580000</td>\n",
       "      <td>5866.770020</td>\n",
       "    </tr>\n",
       "    <tr>\n",
       "      <th>1</th>\n",
       "      <td>2017-04-12</td>\n",
       "      <td>22.959999</td>\n",
       "      <td>13.75</td>\n",
       "      <td>33.000000</td>\n",
       "      <td>5.740000</td>\n",
       "      <td>5836.160156</td>\n",
       "    </tr>\n",
       "    <tr>\n",
       "      <th>2</th>\n",
       "      <td>2017-04-13</td>\n",
       "      <td>22.990000</td>\n",
       "      <td>13.53</td>\n",
       "      <td>33.000000</td>\n",
       "      <td>5.670000</td>\n",
       "      <td>5805.149902</td>\n",
       "    </tr>\n",
       "    <tr>\n",
       "      <th>3</th>\n",
       "      <td>2017-04-17</td>\n",
       "      <td>22.850000</td>\n",
       "      <td>14.06</td>\n",
       "      <td>33.889999</td>\n",
       "      <td>5.840000</td>\n",
       "      <td>5856.790039</td>\n",
       "    </tr>\n",
       "    <tr>\n",
       "      <th>4</th>\n",
       "      <td>2017-04-18</td>\n",
       "      <td>23.910000</td>\n",
       "      <td>14.15</td>\n",
       "      <td>33.900002</td>\n",
       "      <td>6.070000</td>\n",
       "      <td>5849.470215</td>\n",
       "    </tr>\n",
       "    <tr>\n",
       "      <th>...</th>\n",
       "      <td>...</td>\n",
       "      <td>...</td>\n",
       "      <td>...</td>\n",
       "      <td>...</td>\n",
       "      <td>...</td>\n",
       "      <td>...</td>\n",
       "    </tr>\n",
       "    <tr>\n",
       "      <th>1086</th>\n",
       "      <td>2021-08-27</td>\n",
       "      <td>39.169998</td>\n",
       "      <td>3.39</td>\n",
       "      <td>35.570000</td>\n",
       "      <td>21.000000</td>\n",
       "      <td>15129.500000</td>\n",
       "    </tr>\n",
       "    <tr>\n",
       "      <th>1087</th>\n",
       "      <td>2021-08-30</td>\n",
       "      <td>37.889999</td>\n",
       "      <td>3.26</td>\n",
       "      <td>34.830002</td>\n",
       "      <td>20.969999</td>\n",
       "      <td>15265.889648</td>\n",
       "    </tr>\n",
       "    <tr>\n",
       "      <th>1088</th>\n",
       "      <td>2021-08-31</td>\n",
       "      <td>37.730000</td>\n",
       "      <td>3.21</td>\n",
       "      <td>34.189999</td>\n",
       "      <td>20.490000</td>\n",
       "      <td>15259.240234</td>\n",
       "    </tr>\n",
       "    <tr>\n",
       "      <th>1089</th>\n",
       "      <td>2021-09-01</td>\n",
       "      <td>37.779999</td>\n",
       "      <td>3.15</td>\n",
       "      <td>33.599998</td>\n",
       "      <td>21.490000</td>\n",
       "      <td>15309.379883</td>\n",
       "    </tr>\n",
       "    <tr>\n",
       "      <th>1090</th>\n",
       "      <td>2021-09-02</td>\n",
       "      <td>37.119999</td>\n",
       "      <td>3.06</td>\n",
       "      <td>32.480000</td>\n",
       "      <td>21.030001</td>\n",
       "      <td>15331.176758</td>\n",
       "    </tr>\n",
       "  </tbody>\n",
       "</table>\n",
       "<p>1091 rows × 6 columns</p>\n",
       "</div>"
      ],
      "text/plain": [
       "            Date   AZUL4.SA  COGN3.SA   IGTA3.SA   MRFG3.SA         ^IXIC\n",
       "0     2017-04-11  22.400000     13.66  32.950001   5.580000   5866.770020\n",
       "1     2017-04-12  22.959999     13.75  33.000000   5.740000   5836.160156\n",
       "2     2017-04-13  22.990000     13.53  33.000000   5.670000   5805.149902\n",
       "3     2017-04-17  22.850000     14.06  33.889999   5.840000   5856.790039\n",
       "4     2017-04-18  23.910000     14.15  33.900002   6.070000   5849.470215\n",
       "...          ...        ...       ...        ...        ...           ...\n",
       "1086  2021-08-27  39.169998      3.39  35.570000  21.000000  15129.500000\n",
       "1087  2021-08-30  37.889999      3.26  34.830002  20.969999  15265.889648\n",
       "1088  2021-08-31  37.730000      3.21  34.189999  20.490000  15259.240234\n",
       "1089  2021-09-01  37.779999      3.15  33.599998  21.490000  15309.379883\n",
       "1090  2021-09-02  37.119999      3.06  32.480000  21.030001  15331.176758\n",
       "\n",
       "[1091 rows x 6 columns]"
      ]
     },
     "execution_count": 2,
     "metadata": {},
     "output_type": "execute_result"
    }
   ],
   "source": [
    "dataset = pd.read_csv('acoes_id.csv')\n",
    "dataset"
   ]
  },
  {
   "cell_type": "code",
   "execution_count": 3,
   "id": "eaa051d4",
   "metadata": {},
   "outputs": [
    {
     "data": {
      "text/html": [
       "<div>\n",
       "<style scoped>\n",
       "    .dataframe tbody tr th:only-of-type {\n",
       "        vertical-align: middle;\n",
       "    }\n",
       "\n",
       "    .dataframe tbody tr th {\n",
       "        vertical-align: top;\n",
       "    }\n",
       "\n",
       "    .dataframe thead th {\n",
       "        text-align: right;\n",
       "    }\n",
       "</style>\n",
       "<table border=\"1\" class=\"dataframe\">\n",
       "  <thead>\n",
       "    <tr style=\"text-align: right;\">\n",
       "      <th></th>\n",
       "      <th>AZUL4.SA</th>\n",
       "      <th>COGN3.SA</th>\n",
       "      <th>IGTA3.SA</th>\n",
       "      <th>MRFG3.SA</th>\n",
       "      <th>^IXIC</th>\n",
       "    </tr>\n",
       "  </thead>\n",
       "  <tbody>\n",
       "    <tr>\n",
       "      <th>count</th>\n",
       "      <td>1091.000000</td>\n",
       "      <td>1091.000000</td>\n",
       "      <td>1091.000000</td>\n",
       "      <td>1091.000000</td>\n",
       "      <td>1065.000000</td>\n",
       "    </tr>\n",
       "    <tr>\n",
       "      <th>mean</th>\n",
       "      <td>33.906086</td>\n",
       "      <td>10.202557</td>\n",
       "      <td>38.501017</td>\n",
       "      <td>10.136801</td>\n",
       "      <td>8994.936450</td>\n",
       "    </tr>\n",
       "    <tr>\n",
       "      <th>std</th>\n",
       "      <td>10.969006</td>\n",
       "      <td>4.509961</td>\n",
       "      <td>5.993327</td>\n",
       "      <td>4.446040</td>\n",
       "      <td>2568.598019</td>\n",
       "    </tr>\n",
       "    <tr>\n",
       "      <th>min</th>\n",
       "      <td>10.350000</td>\n",
       "      <td>3.060000</td>\n",
       "      <td>26.969999</td>\n",
       "      <td>5.100000</td>\n",
       "      <td>5805.149902</td>\n",
       "    </tr>\n",
       "    <tr>\n",
       "      <th>25%</th>\n",
       "      <td>25.299999</td>\n",
       "      <td>5.325000</td>\n",
       "      <td>33.945000</td>\n",
       "      <td>6.560000</td>\n",
       "      <td>7180.560059</td>\n",
       "    </tr>\n",
       "    <tr>\n",
       "      <th>50%</th>\n",
       "      <td>33.250000</td>\n",
       "      <td>10.490000</td>\n",
       "      <td>37.680000</td>\n",
       "      <td>8.000000</td>\n",
       "      <td>7953.879883</td>\n",
       "    </tr>\n",
       "    <tr>\n",
       "      <th>75%</th>\n",
       "      <td>40.160000</td>\n",
       "      <td>13.165000</td>\n",
       "      <td>41.619999</td>\n",
       "      <td>13.770000</td>\n",
       "      <td>10672.269531</td>\n",
       "    </tr>\n",
       "    <tr>\n",
       "      <th>max</th>\n",
       "      <td>62.410000</td>\n",
       "      <td>21.230000</td>\n",
       "      <td>57.080002</td>\n",
       "      <td>21.490000</td>\n",
       "      <td>15331.176758</td>\n",
       "    </tr>\n",
       "  </tbody>\n",
       "</table>\n",
       "</div>"
      ],
      "text/plain": [
       "          AZUL4.SA     COGN3.SA     IGTA3.SA     MRFG3.SA         ^IXIC\n",
       "count  1091.000000  1091.000000  1091.000000  1091.000000   1065.000000\n",
       "mean     33.906086    10.202557    38.501017    10.136801   8994.936450\n",
       "std      10.969006     4.509961     5.993327     4.446040   2568.598019\n",
       "min      10.350000     3.060000    26.969999     5.100000   5805.149902\n",
       "25%      25.299999     5.325000    33.945000     6.560000   7180.560059\n",
       "50%      33.250000    10.490000    37.680000     8.000000   7953.879883\n",
       "75%      40.160000    13.165000    41.619999    13.770000  10672.269531\n",
       "max      62.410000    21.230000    57.080002    21.490000  15331.176758"
      ]
     },
     "execution_count": 3,
     "metadata": {},
     "output_type": "execute_result"
    }
   ],
   "source": [
    "dataset.describe()"
   ]
  },
  {
   "cell_type": "markdown",
   "id": "33f8005c",
   "metadata": {},
   "source": [
    "## Cálculo dos retornos anuais"
   ]
  },
  {
   "cell_type": "code",
   "execution_count": 20,
   "id": "58c7cd6c",
   "metadata": {},
   "outputs": [
    {
     "data": {
      "text/plain": [
       "(517    38.09\n",
       " Name: AZUL4.SA, dtype: float64,\n",
       " 677    58.279999\n",
       " Name: AZUL4.SA, dtype: float64)"
      ]
     },
     "execution_count": 20,
     "metadata": {},
     "output_type": "execute_result"
    }
   ],
   "source": [
    "dataset['AZUL4.SA'][dataset['Date'] == '2019-05-10'], dataset['AZUL4.SA'][dataset['Date'] == '2019-12-30']"
   ]
  },
  {
   "cell_type": "code",
   "execution_count": 21,
   "id": "958d583d",
   "metadata": {},
   "outputs": [
    {
     "data": {
      "text/plain": [
       "42.51356006644702"
      ]
     },
     "execution_count": 21,
     "metadata": {},
     "output_type": "execute_result"
    }
   ],
   "source": [
    "np.log(58.27 / 38.09) * 100"
   ]
  },
  {
   "cell_type": "code",
   "execution_count": 22,
   "id": "49cd8f38",
   "metadata": {},
   "outputs": [
    {
     "data": {
      "text/plain": [
       "(517    10.1\n",
       " Name: COGN3.SA, dtype: float64,\n",
       " 677    11.43\n",
       " Name: COGN3.SA, dtype: float64)"
      ]
     },
     "execution_count": 22,
     "metadata": {},
     "output_type": "execute_result"
    }
   ],
   "source": [
    "dataset['COGN3.SA'][dataset['Date'] == '2019-05-10'], dataset['COGN3.SA'][dataset['Date'] == '2019-12-30']"
   ]
  },
  {
   "cell_type": "code",
   "execution_count": 23,
   "id": "d337d13b",
   "metadata": {},
   "outputs": [
    {
     "data": {
      "text/plain": [
       "12.370605395950562"
      ]
     },
     "execution_count": 23,
     "metadata": {},
     "output_type": "execute_result"
    }
   ],
   "source": [
    "np.log(11.43/10.1)*100"
   ]
  },
  {
   "cell_type": "code",
   "execution_count": 25,
   "id": "543b5b7e",
   "metadata": {},
   "outputs": [
    {
     "data": {
      "text/plain": [
       "(517    38.32\n",
       " Name: IGTA3.SA, dtype: float64,\n",
       " 677    52.900002\n",
       " Name: IGTA3.SA, dtype: float64)"
      ]
     },
     "execution_count": 25,
     "metadata": {},
     "output_type": "execute_result"
    }
   ],
   "source": [
    "dataset['IGTA3.SA'][dataset['Date'] == '2019-05-10'], dataset['IGTA3.SA'][dataset['Date'] == '2019-12-30']"
   ]
  },
  {
   "cell_type": "code",
   "execution_count": 26,
   "id": "76fe4ac7",
   "metadata": {},
   "outputs": [
    {
     "data": {
      "text/plain": [
       "32.24313857615938"
      ]
     },
     "execution_count": 26,
     "metadata": {},
     "output_type": "execute_result"
    }
   ],
   "source": [
    "np.log(52.90/38.32)*100"
   ]
  },
  {
   "cell_type": "code",
   "execution_count": 27,
   "id": "43f22c04",
   "metadata": {},
   "outputs": [
    {
     "data": {
      "text/plain": [
       "(517    6.37\n",
       " Name: MRFG3.SA, dtype: float64,\n",
       " 677    9.96\n",
       " Name: MRFG3.SA, dtype: float64)"
      ]
     },
     "execution_count": 27,
     "metadata": {},
     "output_type": "execute_result"
    }
   ],
   "source": [
    "dataset['MRFG3.SA'][dataset['Date'] == '2019-05-10'], dataset['MRFG3.SA'][dataset['Date'] == '2019-12-30']"
   ]
  },
  {
   "cell_type": "code",
   "execution_count": 28,
   "id": "de907137",
   "metadata": {},
   "outputs": [
    {
     "data": {
      "text/plain": [
       "44.69776020124349"
      ]
     },
     "execution_count": 28,
     "metadata": {},
     "output_type": "execute_result"
    }
   ],
   "source": [
    "np.log(9.96/6.37)*100"
   ]
  },
  {
   "cell_type": "code",
   "execution_count": 29,
   "id": "28881783",
   "metadata": {},
   "outputs": [
    {
     "data": {
      "text/plain": [
       "(517    7916.939941\n",
       " Name: ^IXIC, dtype: float64,\n",
       " 677    8945.990234\n",
       " Name: ^IXIC, dtype: float64)"
      ]
     },
     "execution_count": 29,
     "metadata": {},
     "output_type": "execute_result"
    }
   ],
   "source": [
    "dataset['^IXIC'][dataset['Date'] == '2019-05-10'], dataset['^IXIC'][dataset['Date'] == '2019-12-30']"
   ]
  },
  {
   "cell_type": "code",
   "execution_count": 30,
   "id": "d22db741",
   "metadata": {},
   "outputs": [
    {
     "data": {
      "text/plain": [
       "12.220188277478371"
      ]
     },
     "execution_count": 30,
     "metadata": {},
     "output_type": "execute_result"
    }
   ],
   "source": [
    "np.log(8945.99/7916.93)*100"
   ]
  },
  {
   "cell_type": "code",
   "execution_count": 32,
   "id": "2d40011d",
   "metadata": {},
   "outputs": [
    {
     "data": {
      "text/plain": [
       "(678    58.799999\n",
       " Name: AZUL4.SA, dtype: float64,\n",
       " 924    39.299999\n",
       " Name: AZUL4.SA, dtype: float64)"
      ]
     },
     "execution_count": 32,
     "metadata": {},
     "output_type": "execute_result"
    }
   ],
   "source": [
    "#2020\n",
    "\n",
    "dataset['AZUL4.SA'][dataset['Date'] == '2020-01-02'], dataset['AZUL4.SA'][dataset['Date'] == '2020-12-30']"
   ]
  },
  {
   "cell_type": "code",
   "execution_count": 33,
   "id": "35d8c204",
   "metadata": {},
   "outputs": [
    {
     "data": {
      "text/plain": [
       "-40.30017388437951"
      ]
     },
     "execution_count": 33,
     "metadata": {},
     "output_type": "execute_result"
    }
   ],
   "source": [
    "np.log(39.29/58.79)*100"
   ]
  },
  {
   "cell_type": "code",
   "execution_count": 35,
   "id": "4627fda1",
   "metadata": {},
   "outputs": [
    {
     "data": {
      "text/plain": [
       "(678    10.06\n",
       " Name: MRFG3.SA, dtype: float64,\n",
       " 924    14.51\n",
       " Name: MRFG3.SA, dtype: float64)"
      ]
     },
     "execution_count": 35,
     "metadata": {},
     "output_type": "execute_result"
    }
   ],
   "source": [
    "dataset['MRFG3.SA'][dataset['Date'] == '2020-01-02'], dataset['MRFG3.SA'][dataset['Date'] == '2020-12-30']"
   ]
  },
  {
   "cell_type": "code",
   "execution_count": 37,
   "id": "e4ae8ba4",
   "metadata": {},
   "outputs": [
    {
     "data": {
      "text/plain": [
       "36.62709022245032"
      ]
     },
     "execution_count": 37,
     "metadata": {},
     "output_type": "execute_result"
    }
   ],
   "source": [
    "np.log(14.51/10.06)*100"
   ]
  },
  {
   "cell_type": "code",
   "execution_count": 38,
   "id": "ea5c33e7",
   "metadata": {},
   "outputs": [
    {
     "data": {
      "text/plain": [
       "(678    9092.19043\n",
       " Name: ^IXIC, dtype: float64,\n",
       " 924    12870.0\n",
       " Name: ^IXIC, dtype: float64)"
      ]
     },
     "execution_count": 38,
     "metadata": {},
     "output_type": "execute_result"
    }
   ],
   "source": [
    "dataset['^IXIC'][dataset['Date'] == '2020-01-02'], dataset['^IXIC'][dataset['Date'] == '2020-12-30']"
   ]
  },
  {
   "cell_type": "code",
   "execution_count": 39,
   "id": "62bf983a",
   "metadata": {},
   "outputs": [
    {
     "data": {
      "text/plain": [
       "34.748321834378714"
      ]
     },
     "execution_count": 39,
     "metadata": {},
     "output_type": "execute_result"
    }
   ],
   "source": [
    "np.log(12870/9092.19)*100"
   ]
  },
  {
   "cell_type": "code",
   "execution_count": 41,
   "id": "7de98027",
   "metadata": {},
   "outputs": [
    {
     "data": {
      "text/plain": [
       "(925    37.73\n",
       " Name: AZUL4.SA, dtype: float64,\n",
       " 1075    37.189999\n",
       " Name: AZUL4.SA, dtype: float64)"
      ]
     },
     "execution_count": 41,
     "metadata": {},
     "output_type": "execute_result"
    }
   ],
   "source": [
    "#2021\n",
    "dataset['AZUL4.SA'][dataset['Date'] == '2021-01-04'], dataset['AZUL4.SA'][dataset['Date'] == '2021-08-12']"
   ]
  },
  {
   "cell_type": "code",
   "execution_count": 42,
   "id": "48141682",
   "metadata": {},
   "outputs": [
    {
     "data": {
      "text/plain": [
       "-1.468455168292107"
      ]
     },
     "execution_count": 42,
     "metadata": {},
     "output_type": "execute_result"
    }
   ],
   "source": [
    "np.log(37.18/37.73)*100"
   ]
  },
  {
   "cell_type": "code",
   "execution_count": 43,
   "id": "0a30c10e",
   "metadata": {},
   "outputs": [
    {
     "data": {
      "text/plain": [
       "(925    14.3\n",
       " Name: MRFG3.SA, dtype: float64,\n",
       " 1075    19.41\n",
       " Name: MRFG3.SA, dtype: float64)"
      ]
     },
     "execution_count": 43,
     "metadata": {},
     "output_type": "execute_result"
    }
   ],
   "source": [
    "dataset['MRFG3.SA'][dataset['Date'] == '2021-01-04'], dataset['MRFG3.SA'][dataset['Date'] == '2021-08-12']"
   ]
  },
  {
   "cell_type": "code",
   "execution_count": 44,
   "id": "50481127",
   "metadata": {},
   "outputs": [
    {
     "data": {
      "text/plain": [
       "30.552885991505725"
      ]
     },
     "execution_count": 44,
     "metadata": {},
     "output_type": "execute_result"
    }
   ],
   "source": [
    "np.log(19.41/14.3)*100"
   ]
  },
  {
   "cell_type": "code",
   "execution_count": 45,
   "id": "5d874e78",
   "metadata": {},
   "outputs": [
    {
     "data": {
      "text/plain": [
       "(925    12698.450195\n",
       " Name: ^IXIC, dtype: float64,\n",
       " 1075    14816.259766\n",
       " Name: ^IXIC, dtype: float64)"
      ]
     },
     "execution_count": 45,
     "metadata": {},
     "output_type": "execute_result"
    }
   ],
   "source": [
    "dataset['^IXIC'][dataset['Date'] == '2021-01-04'], dataset['^IXIC'][dataset['Date'] == '2021-08-12']"
   ]
  },
  {
   "cell_type": "code",
   "execution_count": 46,
   "id": "bd27af1a",
   "metadata": {},
   "outputs": [
    {
     "data": {
      "text/plain": [
       "15.424461263949299"
      ]
     },
     "execution_count": 46,
     "metadata": {},
     "output_type": "execute_result"
    }
   ],
   "source": [
    "np.log(14816.25/12698.45)*100"
   ]
  },
  {
   "cell_type": "markdown",
   "id": "451ceaa9",
   "metadata": {},
   "source": [
    "## Variância\n"
   ]
  },
  {
   "cell_type": "code",
   "execution_count": 47,
   "id": "1da9dd98",
   "metadata": {},
   "outputs": [
    {
     "data": {
      "text/plain": [
       "0.24831033792513413"
      ]
     },
     "execution_count": 47,
     "metadata": {},
     "output_type": "execute_result"
    }
   ],
   "source": [
    "taxas_azul = np.array([42.51356006644702, -40.30017388437951, -1.468455168292107])\n",
    "media_azul = taxas_azul.sum()/len(taxas_azul)\n",
    "media_azul"
   ]
  },
  {
   "cell_type": "code",
   "execution_count": 48,
   "id": "60e910db",
   "metadata": {},
   "outputs": [
    {
     "data": {
      "text/plain": [
       "0.24831033792513413"
      ]
     },
     "execution_count": 48,
     "metadata": {},
     "output_type": "execute_result"
    }
   ],
   "source": [
    "media_azul = taxas_azul.mean()\n",
    "media_azul"
   ]
  },
  {
   "cell_type": "code",
   "execution_count": 49,
   "id": "0205416d",
   "metadata": {},
   "outputs": [
    {
     "data": {
      "text/plain": [
       "1144.4927303813818"
      ]
     },
     "execution_count": 49,
     "metadata": {},
     "output_type": "execute_result"
    }
   ],
   "source": [
    "Var_azul = ((taxas_azul - media_azul) ** 2).sum() / len(taxas_azul)\n",
    "Var_azul"
   ]
  },
  {
   "cell_type": "code",
   "execution_count": 50,
   "id": "896037a0",
   "metadata": {},
   "outputs": [
    {
     "data": {
      "text/plain": [
       "1144.4927303813818"
      ]
     },
     "execution_count": 50,
     "metadata": {},
     "output_type": "execute_result"
    }
   ],
   "source": [
    "variancia_azul = taxas_azul.var()\n",
    "variancia_azul"
   ]
  },
  {
   "cell_type": "code",
   "execution_count": 51,
   "id": "6fd0ea9c",
   "metadata": {},
   "outputs": [
    {
     "data": {
      "text/plain": [
       "10.389430689222785"
      ]
     },
     "execution_count": 51,
     "metadata": {},
     "output_type": "execute_result"
    }
   ],
   "source": [
    "dataset['AZUL4.SA'].tail(153).var()"
   ]
  },
  {
   "cell_type": "markdown",
   "id": "3ca19c25",
   "metadata": {},
   "source": [
    "## Desvio padrão"
   ]
  },
  {
   "cell_type": "code",
   "execution_count": 52,
   "id": "7d8b9a76",
   "metadata": {},
   "outputs": [
    {
     "data": {
      "text/plain": [
       "33.83035220599073"
      ]
     },
     "execution_count": 52,
     "metadata": {},
     "output_type": "execute_result"
    }
   ],
   "source": [
    "desvio_padrao_azul = math.sqrt(variancia_azul)\n",
    "desvio_padrao_azul"
   ]
  },
  {
   "cell_type": "code",
   "execution_count": 53,
   "id": "2e250a5f",
   "metadata": {},
   "outputs": [
    {
     "data": {
      "text/plain": [
       "33.83035220599073"
      ]
     },
     "execution_count": 53,
     "metadata": {},
     "output_type": "execute_result"
    }
   ],
   "source": [
    "taxas_azul.std()"
   ]
  },
  {
   "cell_type": "code",
   "execution_count": 54,
   "id": "024c261f",
   "metadata": {},
   "outputs": [
    {
     "data": {
      "text/plain": [
       "3.223263980691433"
      ]
     },
     "execution_count": 54,
     "metadata": {},
     "output_type": "execute_result"
    }
   ],
   "source": [
    "dataset['AZUL4.SA'].tail(153).std()"
   ]
  },
  {
   "cell_type": "markdown",
   "id": "ded6accd",
   "metadata": {},
   "source": [
    "## Coeficiente de variação\n"
   ]
  },
  {
   "cell_type": "code",
   "execution_count": 55,
   "id": "8a885451",
   "metadata": {},
   "outputs": [
    {
     "data": {
      "text/plain": [
       "(33.83035220599073, 0.24831033792513413)"
      ]
     },
     "execution_count": 55,
     "metadata": {},
     "output_type": "execute_result"
    }
   ],
   "source": [
    "desvio_padrao_azul, media_azul"
   ]
  },
  {
   "cell_type": "code",
   "execution_count": 56,
   "id": "5a250c55",
   "metadata": {},
   "outputs": [
    {
     "data": {
      "text/plain": [
       "13624.222208658353"
      ]
     },
     "execution_count": 56,
     "metadata": {},
     "output_type": "execute_result"
    }
   ],
   "source": [
    "coeficiente_variacao_azul = (desvio_padrao_azul / media_azul) * 100\n",
    "coeficiente_variacao_azul"
   ]
  },
  {
   "cell_type": "code",
   "execution_count": 58,
   "id": "0251a2f3",
   "metadata": {},
   "outputs": [
    {
     "data": {
      "text/plain": [
       "13624.222208658353"
      ]
     },
     "execution_count": 58,
     "metadata": {},
     "output_type": "execute_result"
    }
   ],
   "source": [
    "stats.variation(taxas_azultaxas_retorno = (dataset / dataset.shift(1))-1\n",
    "taxas_retorno) * 100"
   ]
  },
  {
   "cell_type": "markdown",
   "id": "12df5a0e",
   "metadata": {},
   "source": [
    "## Cálculos com todas as ações - risco médio anual"
   ]
  },
  {
   "cell_type": "code",
   "execution_count": 59,
   "id": "31213711",
   "metadata": {},
   "outputs": [
    {
     "data": {
      "text/html": [
       "<div>\n",
       "<style scoped>\n",
       "    .dataframe tbody tr th:only-of-type {\n",
       "        vertical-align: middle;\n",
       "    }\n",
       "\n",
       "    .dataframe tbody tr th {\n",
       "        vertical-align: top;\n",
       "    }\n",
       "\n",
       "    .dataframe thead th {\n",
       "        text-align: right;\n",
       "    }\n",
       "</style>\n",
       "<table border=\"1\" class=\"dataframe\">\n",
       "  <thead>\n",
       "    <tr style=\"text-align: right;\">\n",
       "      <th></th>\n",
       "      <th>AZUL4.SA</th>\n",
       "      <th>COGN3.SA</th>\n",
       "      <th>IGTA3.SA</th>\n",
       "      <th>MRFG3.SA</th>\n",
       "      <th>^IXIC</th>\n",
       "    </tr>\n",
       "  </thead>\n",
       "  <tbody>\n",
       "    <tr>\n",
       "      <th>0</th>\n",
       "      <td>22.400000</td>\n",
       "      <td>13.66</td>\n",
       "      <td>32.950001</td>\n",
       "      <td>5.580000</td>\n",
       "      <td>5866.770020</td>\n",
       "    </tr>\n",
       "    <tr>\n",
       "      <th>1</th>\n",
       "      <td>22.959999</td>\n",
       "      <td>13.75</td>\n",
       "      <td>33.000000</td>\n",
       "      <td>5.740000</td>\n",
       "      <td>5836.160156</td>\n",
       "    </tr>\n",
       "    <tr>\n",
       "      <th>2</th>\n",
       "      <td>22.990000</td>\n",
       "      <td>13.53</td>\n",
       "      <td>33.000000</td>\n",
       "      <td>5.670000</td>\n",
       "      <td>5805.149902</td>\n",
       "    </tr>\n",
       "    <tr>\n",
       "      <th>3</th>\n",
       "      <td>22.850000</td>\n",
       "      <td>14.06</td>\n",
       "      <td>33.889999</td>\n",
       "      <td>5.840000</td>\n",
       "      <td>5856.790039</td>\n",
       "    </tr>\n",
       "    <tr>\n",
       "      <th>4</th>\n",
       "      <td>23.910000</td>\n",
       "      <td>14.15</td>\n",
       "      <td>33.900002</td>\n",
       "      <td>6.070000</td>\n",
       "      <td>5849.470215</td>\n",
       "    </tr>\n",
       "    <tr>\n",
       "      <th>...</th>\n",
       "      <td>...</td>\n",
       "      <td>...</td>\n",
       "      <td>...</td>\n",
       "      <td>...</td>\n",
       "      <td>...</td>\n",
       "    </tr>\n",
       "    <tr>\n",
       "      <th>1086</th>\n",
       "      <td>39.169998</td>\n",
       "      <td>3.39</td>\n",
       "      <td>35.570000</td>\n",
       "      <td>21.000000</td>\n",
       "      <td>15129.500000</td>\n",
       "    </tr>\n",
       "    <tr>\n",
       "      <th>1087</th>\n",
       "      <td>37.889999</td>\n",
       "      <td>3.26</td>\n",
       "      <td>34.830002</td>\n",
       "      <td>20.969999</td>\n",
       "      <td>15265.889648</td>\n",
       "    </tr>\n",
       "    <tr>\n",
       "      <th>1088</th>\n",
       "      <td>37.730000</td>\n",
       "      <td>3.21</td>\n",
       "      <td>34.189999</td>\n",
       "      <td>20.490000</td>\n",
       "      <td>15259.240234</td>\n",
       "    </tr>\n",
       "    <tr>\n",
       "      <th>1089</th>\n",
       "      <td>37.779999</td>\n",
       "      <td>3.15</td>\n",
       "      <td>33.599998</td>\n",
       "      <td>21.490000</td>\n",
       "      <td>15309.379883</td>\n",
       "    </tr>\n",
       "    <tr>\n",
       "      <th>1090</th>\n",
       "      <td>37.119999</td>\n",
       "      <td>3.06</td>\n",
       "      <td>32.480000</td>\n",
       "      <td>21.030001</td>\n",
       "      <td>15331.176758</td>\n",
       "    </tr>\n",
       "  </tbody>\n",
       "</table>\n",
       "<p>1091 rows × 5 columns</p>\n",
       "</div>"
      ],
      "text/plain": [
       "       AZUL4.SA  COGN3.SA   IGTA3.SA   MRFG3.SA         ^IXIC\n",
       "0     22.400000     13.66  32.950001   5.580000   5866.770020\n",
       "1     22.959999     13.75  33.000000   5.740000   5836.160156\n",
       "2     22.990000     13.53  33.000000   5.670000   5805.149902\n",
       "3     22.850000     14.06  33.889999   5.840000   5856.790039\n",
       "4     23.910000     14.15  33.900002   6.070000   5849.470215\n",
       "...         ...       ...        ...        ...           ...\n",
       "1086  39.169998      3.39  35.570000  21.000000  15129.500000\n",
       "1087  37.889999      3.26  34.830002  20.969999  15265.889648\n",
       "1088  37.730000      3.21  34.189999  20.490000  15259.240234\n",
       "1089  37.779999      3.15  33.599998  21.490000  15309.379883\n",
       "1090  37.119999      3.06  32.480000  21.030001  15331.176758\n",
       "\n",
       "[1091 rows x 5 columns]"
      ]
     },
     "execution_count": 59,
     "metadata": {},
     "output_type": "execute_result"
    }
   ],
   "source": [
    "dataset.drop(labels = ['Date'], axis=1, inplace=True)\n",
    "dataset"
   ]
  },
  {
   "cell_type": "code",
   "execution_count": 60,
   "id": "10381b73",
   "metadata": {},
   "outputs": [
    {
     "data": {
      "text/html": [
       "<div>\n",
       "<style scoped>\n",
       "    .dataframe tbody tr th:only-of-type {\n",
       "        vertical-align: middle;\n",
       "    }\n",
       "\n",
       "    .dataframe tbody tr th {\n",
       "        vertical-align: top;\n",
       "    }\n",
       "\n",
       "    .dataframe thead th {\n",
       "        text-align: right;\n",
       "    }\n",
       "</style>\n",
       "<table border=\"1\" class=\"dataframe\">\n",
       "  <thead>\n",
       "    <tr style=\"text-align: right;\">\n",
       "      <th></th>\n",
       "      <th>AZUL4.SA</th>\n",
       "      <th>COGN3.SA</th>\n",
       "      <th>IGTA3.SA</th>\n",
       "      <th>MRFG3.SA</th>\n",
       "      <th>^IXIC</th>\n",
       "    </tr>\n",
       "  </thead>\n",
       "  <tbody>\n",
       "    <tr>\n",
       "      <th>0</th>\n",
       "      <td>NaN</td>\n",
       "      <td>NaN</td>\n",
       "      <td>NaN</td>\n",
       "      <td>NaN</td>\n",
       "      <td>NaN</td>\n",
       "    </tr>\n",
       "    <tr>\n",
       "      <th>1</th>\n",
       "      <td>0.025000</td>\n",
       "      <td>0.006589</td>\n",
       "      <td>0.001517</td>\n",
       "      <td>0.028674</td>\n",
       "      <td>-0.005217</td>\n",
       "    </tr>\n",
       "    <tr>\n",
       "      <th>2</th>\n",
       "      <td>0.001307</td>\n",
       "      <td>-0.016000</td>\n",
       "      <td>0.000000</td>\n",
       "      <td>-0.012195</td>\n",
       "      <td>-0.005313</td>\n",
       "    </tr>\n",
       "    <tr>\n",
       "      <th>3</th>\n",
       "      <td>-0.006090</td>\n",
       "      <td>0.039172</td>\n",
       "      <td>0.026970</td>\n",
       "      <td>0.029982</td>\n",
       "      <td>0.008896</td>\n",
       "    </tr>\n",
       "    <tr>\n",
       "      <th>4</th>\n",
       "      <td>0.046389</td>\n",
       "      <td>0.006401</td>\n",
       "      <td>0.000295</td>\n",
       "      <td>0.039384</td>\n",
       "      <td>-0.001250</td>\n",
       "    </tr>\n",
       "    <tr>\n",
       "      <th>...</th>\n",
       "      <td>...</td>\n",
       "      <td>...</td>\n",
       "      <td>...</td>\n",
       "      <td>...</td>\n",
       "      <td>...</td>\n",
       "    </tr>\n",
       "    <tr>\n",
       "      <th>1086</th>\n",
       "      <td>0.009536</td>\n",
       "      <td>-0.002941</td>\n",
       "      <td>0.011949</td>\n",
       "      <td>0.001908</td>\n",
       "      <td>0.012290</td>\n",
       "    </tr>\n",
       "    <tr>\n",
       "      <th>1087</th>\n",
       "      <td>-0.032678</td>\n",
       "      <td>-0.038348</td>\n",
       "      <td>-0.020804</td>\n",
       "      <td>-0.001429</td>\n",
       "      <td>0.009015</td>\n",
       "    </tr>\n",
       "    <tr>\n",
       "      <th>1088</th>\n",
       "      <td>-0.004223</td>\n",
       "      <td>-0.015337</td>\n",
       "      <td>-0.018375</td>\n",
       "      <td>-0.022890</td>\n",
       "      <td>-0.000436</td>\n",
       "    </tr>\n",
       "    <tr>\n",
       "      <th>1089</th>\n",
       "      <td>0.001325</td>\n",
       "      <td>-0.018692</td>\n",
       "      <td>-0.017257</td>\n",
       "      <td>0.048804</td>\n",
       "      <td>0.003286</td>\n",
       "    </tr>\n",
       "    <tr>\n",
       "      <th>1090</th>\n",
       "      <td>-0.017470</td>\n",
       "      <td>-0.028571</td>\n",
       "      <td>-0.033333</td>\n",
       "      <td>-0.021405</td>\n",
       "      <td>0.001424</td>\n",
       "    </tr>\n",
       "  </tbody>\n",
       "</table>\n",
       "<p>1091 rows × 5 columns</p>\n",
       "</div>"
      ],
      "text/plain": [
       "      AZUL4.SA  COGN3.SA  IGTA3.SA  MRFG3.SA     ^IXIC\n",
       "0          NaN       NaN       NaN       NaN       NaN\n",
       "1     0.025000  0.006589  0.001517  0.028674 -0.005217\n",
       "2     0.001307 -0.016000  0.000000 -0.012195 -0.005313\n",
       "3    -0.006090  0.039172  0.026970  0.029982  0.008896\n",
       "4     0.046389  0.006401  0.000295  0.039384 -0.001250\n",
       "...        ...       ...       ...       ...       ...\n",
       "1086  0.009536 -0.002941  0.011949  0.001908  0.012290\n",
       "1087 -0.032678 -0.038348 -0.020804 -0.001429  0.009015\n",
       "1088 -0.004223 -0.015337 -0.018375 -0.022890 -0.000436\n",
       "1089  0.001325 -0.018692 -0.017257  0.048804  0.003286\n",
       "1090 -0.017470 -0.028571 -0.033333 -0.021405  0.001424\n",
       "\n",
       "[1091 rows x 5 columns]"
      ]
     },
     "execution_count": 60,
     "metadata": {},
     "output_type": "execute_result"
    }
   ],
   "source": [
    "taxas_retorno = (dataset / dataset.shift(1))-1\n",
    "taxas_retorno"
   ]
  },
  {
   "cell_type": "code",
   "execution_count": 61,
   "id": "c36cdf55",
   "metadata": {},
   "outputs": [
    {
     "data": {
      "text/plain": [
       "AZUL4.SA    4.047980\n",
       "COGN3.SA    3.410534\n",
       "IGTA3.SA    2.551890\n",
       "MRFG3.SA    3.075281\n",
       "^IXIC       1.468645\n",
       "dtype: float64"
      ]
     },
     "execution_count": 61,
     "metadata": {},
     "output_type": "execute_result"
    }
   ],
   "source": [
    "taxas_retorno.std() * 100"
   ]
  },
  {
   "cell_type": "code",
   "execution_count": 62,
   "id": "bb23cc1b",
   "metadata": {},
   "outputs": [
    {
     "data": {
      "text/plain": [
       "AZUL4.SA    10.200910\n",
       "COGN3.SA     8.594546\n",
       "IGTA3.SA     6.430763\n",
       "MRFG3.SA     7.749708\n",
       "^IXIC        3.700985\n",
       "dtype: float64"
      ]
     },
     "execution_count": 62,
     "metadata": {},
     "output_type": "execute_result"
    }
   ],
   "source": [
    "taxas_retorno.std() * 252"
   ]
  },
  {
   "cell_type": "code",
   "execution_count": 63,
   "id": "2689b672",
   "metadata": {},
   "outputs": [
    {
     "data": {
      "text/plain": [
       "15.874507866387544"
      ]
     },
     "execution_count": 63,
     "metadata": {},
     "output_type": "execute_result"
    }
   ],
   "source": [
    "math.sqrt(252) # Anualizar"
   ]
  },
  {
   "cell_type": "code",
   "execution_count": 64,
   "id": "77b8ff8a",
   "metadata": {},
   "outputs": [
    {
     "data": {
      "text/plain": [
       "AZUL4.SA    0.642597\n",
       "COGN3.SA    0.541406\n",
       "IGTA3.SA    0.405100\n",
       "MRFG3.SA    0.488186\n",
       "^IXIC       0.233140\n",
       "dtype: float64"
      ]
     },
     "execution_count": 64,
     "metadata": {},
     "output_type": "execute_result"
    }
   ],
   "source": [
    "taxas_retorno.std() * math.sqrt(252)"
   ]
  },
  {
   "cell_type": "code",
   "execution_count": 65,
   "id": "4585ad43",
   "metadata": {},
   "outputs": [
    {
     "data": {
      "image/png": "[encoded data removed]",
      "text/plain": [
       "<Figure size 432x288 with 1 Axes>"
      ]
     },
     "metadata": {
      "needs_background": "light"
     },
     "output_type": "display_data"
    }
   ],
   "source": [
    "taxas_retorno[\"AZUL4.SA\"].plot()\n",
    "plt.axhline(y = taxas_retorno[\"AZUL4.SA\"].mean(), color = 'r', linestyle = '-')\n",
    "plt.axhline(y = taxas_retorno[\"AZUL4.SA\"].std(), color = 'g', linestyle = '--')\n",
    "plt.axhline(y = - taxas_retorno[\"AZUL4.SA\"].std(), color = 'g', linestyle = '--');"
   ]
  },
  {
   "cell_type": "markdown",
   "id": "21be6512",
   "metadata": {},
   "source": [
    "## Correlação entre ações"
   ]
  },
  {
   "cell_type": "code",
   "execution_count": 66,
   "id": "f4bb2cd5",
   "metadata": {},
   "outputs": [
    {
     "data": {
      "text/html": [
       "<div>\n",
       "<style scoped>\n",
       "    .dataframe tbody tr th:only-of-type {\n",
       "        vertical-align: middle;\n",
       "    }\n",
       "\n",
       "    .dataframe tbody tr th {\n",
       "        vertical-align: top;\n",
       "    }\n",
       "\n",
       "    .dataframe thead th {\n",
       "        text-align: right;\n",
       "    }\n",
       "</style>\n",
       "<table border=\"1\" class=\"dataframe\">\n",
       "  <thead>\n",
       "    <tr style=\"text-align: right;\">\n",
       "      <th></th>\n",
       "      <th>AZUL4.SA</th>\n",
       "      <th>COGN3.SA</th>\n",
       "      <th>IGTA3.SA</th>\n",
       "      <th>MRFG3.SA</th>\n",
       "      <th>^IXIC</th>\n",
       "    </tr>\n",
       "  </thead>\n",
       "  <tbody>\n",
       "    <tr>\n",
       "      <th>0</th>\n",
       "      <td>22.400000</td>\n",
       "      <td>13.66</td>\n",
       "      <td>32.950001</td>\n",
       "      <td>5.580000</td>\n",
       "      <td>5866.770020</td>\n",
       "    </tr>\n",
       "    <tr>\n",
       "      <th>1</th>\n",
       "      <td>22.959999</td>\n",
       "      <td>13.75</td>\n",
       "      <td>33.000000</td>\n",
       "      <td>5.740000</td>\n",
       "      <td>5836.160156</td>\n",
       "    </tr>\n",
       "    <tr>\n",
       "      <th>2</th>\n",
       "      <td>22.990000</td>\n",
       "      <td>13.53</td>\n",
       "      <td>33.000000</td>\n",
       "      <td>5.670000</td>\n",
       "      <td>5805.149902</td>\n",
       "    </tr>\n",
       "    <tr>\n",
       "      <th>3</th>\n",
       "      <td>22.850000</td>\n",
       "      <td>14.06</td>\n",
       "      <td>33.889999</td>\n",
       "      <td>5.840000</td>\n",
       "      <td>5856.790039</td>\n",
       "    </tr>\n",
       "    <tr>\n",
       "      <th>4</th>\n",
       "      <td>23.910000</td>\n",
       "      <td>14.15</td>\n",
       "      <td>33.900002</td>\n",
       "      <td>6.070000</td>\n",
       "      <td>5849.470215</td>\n",
       "    </tr>\n",
       "    <tr>\n",
       "      <th>...</th>\n",
       "      <td>...</td>\n",
       "      <td>...</td>\n",
       "      <td>...</td>\n",
       "      <td>...</td>\n",
       "      <td>...</td>\n",
       "    </tr>\n",
       "    <tr>\n",
       "      <th>1086</th>\n",
       "      <td>39.169998</td>\n",
       "      <td>3.39</td>\n",
       "      <td>35.570000</td>\n",
       "      <td>21.000000</td>\n",
       "      <td>15129.500000</td>\n",
       "    </tr>\n",
       "    <tr>\n",
       "      <th>1087</th>\n",
       "      <td>37.889999</td>\n",
       "      <td>3.26</td>\n",
       "      <td>34.830002</td>\n",
       "      <td>20.969999</td>\n",
       "      <td>15265.889648</td>\n",
       "    </tr>\n",
       "    <tr>\n",
       "      <th>1088</th>\n",
       "      <td>37.730000</td>\n",
       "      <td>3.21</td>\n",
       "      <td>34.189999</td>\n",
       "      <td>20.490000</td>\n",
       "      <td>15259.240234</td>\n",
       "    </tr>\n",
       "    <tr>\n",
       "      <th>1089</th>\n",
       "      <td>37.779999</td>\n",
       "      <td>3.15</td>\n",
       "      <td>33.599998</td>\n",
       "      <td>21.490000</td>\n",
       "      <td>15309.379883</td>\n",
       "    </tr>\n",
       "    <tr>\n",
       "      <th>1090</th>\n",
       "      <td>37.119999</td>\n",
       "      <td>3.06</td>\n",
       "      <td>32.480000</td>\n",
       "      <td>21.030001</td>\n",
       "      <td>15331.176758</td>\n",
       "    </tr>\n",
       "  </tbody>\n",
       "</table>\n",
       "<p>1091 rows × 5 columns</p>\n",
       "</div>"
      ],
      "text/plain": [
       "       AZUL4.SA  COGN3.SA   IGTA3.SA   MRFG3.SA         ^IXIC\n",
       "0     22.400000     13.66  32.950001   5.580000   5866.770020\n",
       "1     22.959999     13.75  33.000000   5.740000   5836.160156\n",
       "2     22.990000     13.53  33.000000   5.670000   5805.149902\n",
       "3     22.850000     14.06  33.889999   5.840000   5856.790039\n",
       "4     23.910000     14.15  33.900002   6.070000   5849.470215\n",
       "...         ...       ...        ...        ...           ...\n",
       "1086  39.169998      3.39  35.570000  21.000000  15129.500000\n",
       "1087  37.889999      3.26  34.830002  20.969999  15265.889648\n",
       "1088  37.730000      3.21  34.189999  20.490000  15259.240234\n",
       "1089  37.779999      3.15  33.599998  21.490000  15309.379883\n",
       "1090  37.119999      3.06  32.480000  21.030001  15331.176758\n",
       "\n",
       "[1091 rows x 5 columns]"
      ]
     },
     "execution_count": 66,
     "metadata": {},
     "output_type": "execute_result"
    }
   ],
   "source": [
    "dataset"
   ]
  },
  {
   "cell_type": "code",
   "execution_count": 67,
   "id": "141b637f",
   "metadata": {},
   "outputs": [
    {
     "data": {
      "text/html": [
       "<div>\n",
       "<style scoped>\n",
       "    .dataframe tbody tr th:only-of-type {\n",
       "        vertical-align: middle;\n",
       "    }\n",
       "\n",
       "    .dataframe tbody tr th {\n",
       "        vertical-align: top;\n",
       "    }\n",
       "\n",
       "    .dataframe thead th {\n",
       "        text-align: right;\n",
       "    }\n",
       "</style>\n",
       "<table border=\"1\" class=\"dataframe\">\n",
       "  <thead>\n",
       "    <tr style=\"text-align: right;\">\n",
       "      <th></th>\n",
       "      <th>AZUL4.SA</th>\n",
       "      <th>COGN3.SA</th>\n",
       "      <th>IGTA3.SA</th>\n",
       "      <th>MRFG3.SA</th>\n",
       "      <th>^IXIC</th>\n",
       "    </tr>\n",
       "  </thead>\n",
       "  <tbody>\n",
       "    <tr>\n",
       "      <th>0</th>\n",
       "      <td>NaN</td>\n",
       "      <td>NaN</td>\n",
       "      <td>NaN</td>\n",
       "      <td>NaN</td>\n",
       "      <td>NaN</td>\n",
       "    </tr>\n",
       "    <tr>\n",
       "      <th>1</th>\n",
       "      <td>0.025000</td>\n",
       "      <td>0.006589</td>\n",
       "      <td>0.001517</td>\n",
       "      <td>0.028674</td>\n",
       "      <td>-0.005217</td>\n",
       "    </tr>\n",
       "    <tr>\n",
       "      <th>2</th>\n",
       "      <td>0.001307</td>\n",
       "      <td>-0.016000</td>\n",
       "      <td>0.000000</td>\n",
       "      <td>-0.012195</td>\n",
       "      <td>-0.005313</td>\n",
       "    </tr>\n",
       "    <tr>\n",
       "      <th>3</th>\n",
       "      <td>-0.006090</td>\n",
       "      <td>0.039172</td>\n",
       "      <td>0.026970</td>\n",
       "      <td>0.029982</td>\n",
       "      <td>0.008896</td>\n",
       "    </tr>\n",
       "    <tr>\n",
       "      <th>4</th>\n",
       "      <td>0.046389</td>\n",
       "      <td>0.006401</td>\n",
       "      <td>0.000295</td>\n",
       "      <td>0.039384</td>\n",
       "      <td>-0.001250</td>\n",
       "    </tr>\n",
       "    <tr>\n",
       "      <th>...</th>\n",
       "      <td>...</td>\n",
       "      <td>...</td>\n",
       "      <td>...</td>\n",
       "      <td>...</td>\n",
       "      <td>...</td>\n",
       "    </tr>\n",
       "    <tr>\n",
       "      <th>1086</th>\n",
       "      <td>0.009536</td>\n",
       "      <td>-0.002941</td>\n",
       "      <td>0.011949</td>\n",
       "      <td>0.001908</td>\n",
       "      <td>0.012290</td>\n",
       "    </tr>\n",
       "    <tr>\n",
       "      <th>1087</th>\n",
       "      <td>-0.032678</td>\n",
       "      <td>-0.038348</td>\n",
       "      <td>-0.020804</td>\n",
       "      <td>-0.001429</td>\n",
       "      <td>0.009015</td>\n",
       "    </tr>\n",
       "    <tr>\n",
       "      <th>1088</th>\n",
       "      <td>-0.004223</td>\n",
       "      <td>-0.015337</td>\n",
       "      <td>-0.018375</td>\n",
       "      <td>-0.022890</td>\n",
       "      <td>-0.000436</td>\n",
       "    </tr>\n",
       "    <tr>\n",
       "      <th>1089</th>\n",
       "      <td>0.001325</td>\n",
       "      <td>-0.018692</td>\n",
       "      <td>-0.017257</td>\n",
       "      <td>0.048804</td>\n",
       "      <td>0.003286</td>\n",
       "    </tr>\n",
       "    <tr>\n",
       "      <th>1090</th>\n",
       "      <td>-0.017470</td>\n",
       "      <td>-0.028571</td>\n",
       "      <td>-0.033333</td>\n",
       "      <td>-0.021405</td>\n",
       "      <td>0.001424</td>\n",
       "    </tr>\n",
       "  </tbody>\n",
       "</table>\n",
       "<p>1091 rows × 5 columns</p>\n",
       "</div>"
      ],
      "text/plain": [
       "      AZUL4.SA  COGN3.SA  IGTA3.SA  MRFG3.SA     ^IXIC\n",
       "0          NaN       NaN       NaN       NaN       NaN\n",
       "1     0.025000  0.006589  0.001517  0.028674 -0.005217\n",
       "2     0.001307 -0.016000  0.000000 -0.012195 -0.005313\n",
       "3    -0.006090  0.039172  0.026970  0.029982  0.008896\n",
       "4     0.046389  0.006401  0.000295  0.039384 -0.001250\n",
       "...        ...       ...       ...       ...       ...\n",
       "1086  0.009536 -0.002941  0.011949  0.001908  0.012290\n",
       "1087 -0.032678 -0.038348 -0.020804 -0.001429  0.009015\n",
       "1088 -0.004223 -0.015337 -0.018375 -0.022890 -0.000436\n",
       "1089  0.001325 -0.018692 -0.017257  0.048804  0.003286\n",
       "1090 -0.017470 -0.028571 -0.033333 -0.021405  0.001424\n",
       "\n",
       "[1091 rows x 5 columns]"
      ]
     },
     "execution_count": 67,
     "metadata": {},
     "output_type": "execute_result"
    }
   ],
   "source": [
    "taxas_retorno"
   ]
  },
  {
   "cell_type": "code",
   "execution_count": 68,
   "id": "7cec58cd",
   "metadata": {},
   "outputs": [
    {
     "data": {
      "text/html": [
       "<div>\n",
       "<style scoped>\n",
       "    .dataframe tbody tr th:only-of-type {\n",
       "        vertical-align: middle;\n",
       "    }\n",
       "\n",
       "    .dataframe tbody tr th {\n",
       "        vertical-align: top;\n",
       "    }\n",
       "\n",
       "    .dataframe thead th {\n",
       "        text-align: right;\n",
       "    }\n",
       "</style>\n",
       "<table border=\"1\" class=\"dataframe\">\n",
       "  <thead>\n",
       "    <tr style=\"text-align: right;\">\n",
       "      <th></th>\n",
       "      <th>AZUL4.SA</th>\n",
       "      <th>COGN3.SA</th>\n",
       "      <th>IGTA3.SA</th>\n",
       "      <th>MRFG3.SA</th>\n",
       "      <th>^IXIC</th>\n",
       "    </tr>\n",
       "  </thead>\n",
       "  <tbody>\n",
       "    <tr>\n",
       "      <th>AZUL4.SA</th>\n",
       "      <td>0.001639</td>\n",
       "      <td>0.000738</td>\n",
       "      <td>0.000637</td>\n",
       "      <td>0.000407</td>\n",
       "      <td>0.000261</td>\n",
       "    </tr>\n",
       "    <tr>\n",
       "      <th>COGN3.SA</th>\n",
       "      <td>0.000738</td>\n",
       "      <td>0.001163</td>\n",
       "      <td>0.000501</td>\n",
       "      <td>0.000316</td>\n",
       "      <td>0.000182</td>\n",
       "    </tr>\n",
       "    <tr>\n",
       "      <th>IGTA3.SA</th>\n",
       "      <td>0.000637</td>\n",
       "      <td>0.000501</td>\n",
       "      <td>0.000651</td>\n",
       "      <td>0.000264</td>\n",
       "      <td>0.000161</td>\n",
       "    </tr>\n",
       "    <tr>\n",
       "      <th>MRFG3.SA</th>\n",
       "      <td>0.000407</td>\n",
       "      <td>0.000316</td>\n",
       "      <td>0.000264</td>\n",
       "      <td>0.000946</td>\n",
       "      <td>0.000176</td>\n",
       "    </tr>\n",
       "    <tr>\n",
       "      <th>^IXIC</th>\n",
       "      <td>0.000261</td>\n",
       "      <td>0.000182</td>\n",
       "      <td>0.000161</td>\n",
       "      <td>0.000176</td>\n",
       "      <td>0.000216</td>\n",
       "    </tr>\n",
       "  </tbody>\n",
       "</table>\n",
       "</div>"
      ],
      "text/plain": [
       "          AZUL4.SA  COGN3.SA  IGTA3.SA  MRFG3.SA     ^IXIC\n",
       "AZUL4.SA  0.001639  0.000738  0.000637  0.000407  0.000261\n",
       "COGN3.SA  0.000738  0.001163  0.000501  0.000316  0.000182\n",
       "IGTA3.SA  0.000637  0.000501  0.000651  0.000264  0.000161\n",
       "MRFG3.SA  0.000407  0.000316  0.000264  0.000946  0.000176\n",
       "^IXIC     0.000261  0.000182  0.000161  0.000176  0.000216"
      ]
     },
     "execution_count": 68,
     "metadata": {},
     "output_type": "execute_result"
    }
   ],
   "source": [
    "taxas_retorno.cov()"
   ]
  },
  {
   "cell_type": "code",
   "execution_count": 69,
   "id": "d2f340dd",
   "metadata": {},
   "outputs": [
    {
     "data": {
      "text/html": [
       "<div>\n",
       "<style scoped>\n",
       "    .dataframe tbody tr th:only-of-type {\n",
       "        vertical-align: middle;\n",
       "    }\n",
       "\n",
       "    .dataframe tbody tr th {\n",
       "        vertical-align: top;\n",
       "    }\n",
       "\n",
       "    .dataframe thead th {\n",
       "        text-align: right;\n",
       "    }\n",
       "</style>\n",
       "<table border=\"1\" class=\"dataframe\">\n",
       "  <thead>\n",
       "    <tr style=\"text-align: right;\">\n",
       "      <th></th>\n",
       "      <th>AZUL4.SA</th>\n",
       "      <th>COGN3.SA</th>\n",
       "      <th>IGTA3.SA</th>\n",
       "      <th>MRFG3.SA</th>\n",
       "      <th>^IXIC</th>\n",
       "    </tr>\n",
       "  </thead>\n",
       "  <tbody>\n",
       "    <tr>\n",
       "      <th>AZUL4.SA</th>\n",
       "      <td>1.000000</td>\n",
       "      <td>0.534432</td>\n",
       "      <td>0.616921</td>\n",
       "      <td>0.326787</td>\n",
       "      <td>0.431998</td>\n",
       "    </tr>\n",
       "    <tr>\n",
       "      <th>COGN3.SA</th>\n",
       "      <td>0.534432</td>\n",
       "      <td>1.000000</td>\n",
       "      <td>0.576200</td>\n",
       "      <td>0.301073</td>\n",
       "      <td>0.359251</td>\n",
       "    </tr>\n",
       "    <tr>\n",
       "      <th>IGTA3.SA</th>\n",
       "      <td>0.616921</td>\n",
       "      <td>0.576200</td>\n",
       "      <td>1.000000</td>\n",
       "      <td>0.336668</td>\n",
       "      <td>0.425418</td>\n",
       "    </tr>\n",
       "    <tr>\n",
       "      <th>MRFG3.SA</th>\n",
       "      <td>0.326787</td>\n",
       "      <td>0.301073</td>\n",
       "      <td>0.336668</td>\n",
       "      <td>1.000000</td>\n",
       "      <td>0.384687</td>\n",
       "    </tr>\n",
       "    <tr>\n",
       "      <th>^IXIC</th>\n",
       "      <td>0.431998</td>\n",
       "      <td>0.359251</td>\n",
       "      <td>0.425418</td>\n",
       "      <td>0.384687</td>\n",
       "      <td>1.000000</td>\n",
       "    </tr>\n",
       "  </tbody>\n",
       "</table>\n",
       "</div>"
      ],
      "text/plain": [
       "          AZUL4.SA  COGN3.SA  IGTA3.SA  MRFG3.SA     ^IXIC\n",
       "AZUL4.SA  1.000000  0.534432  0.616921  0.326787  0.431998\n",
       "COGN3.SA  0.534432  1.000000  0.576200  0.301073  0.359251\n",
       "IGTA3.SA  0.616921  0.576200  1.000000  0.336668  0.425418\n",
       "MRFG3.SA  0.326787  0.301073  0.336668  1.000000  0.384687\n",
       "^IXIC     0.431998  0.359251  0.425418  0.384687  1.000000"
      ]
     },
     "execution_count": 69,
     "metadata": {},
     "output_type": "execute_result"
    }
   ],
   "source": [
    "taxas_retorno.corr()"
   ]
  },
  {
   "cell_type": "code",
   "execution_count": 70,
   "id": "74c2479f",
   "metadata": {},
   "outputs": [
    {
     "data": {
      "image/png": "[encoded data removed]",
      "text/plain": [
       "<Figure size 576x576 with 2 Axes>"
      ]
     },
     "metadata": {
      "needs_background": "light"
     },
     "output_type": "display_data"
    }
   ],
   "source": [
    "plt.figure(figsize=(8,8))\n",
    "sns.heatmap(taxas_retorno.corr(), annot=True);"
   ]
  },
  {
   "cell_type": "markdown",
   "id": "e13d5dff",
   "metadata": {},
   "source": [
    "## Risco de um portfólio"
   ]
  },
  {
   "cell_type": "markdown",
   "id": "01a348b7",
   "metadata": {},
   "source": [
    "### Somente duas Ações"
   ]
  },
  {
   "cell_type": "code",
   "execution_count": 71,
   "id": "19d21bf9",
   "metadata": {},
   "outputs": [
    {
     "data": {
      "text/html": [
       "<div>\n",
       "<style scoped>\n",
       "    .dataframe tbody tr th:only-of-type {\n",
       "        vertical-align: middle;\n",
       "    }\n",
       "\n",
       "    .dataframe tbody tr th {\n",
       "        vertical-align: top;\n",
       "    }\n",
       "\n",
       "    .dataframe thead th {\n",
       "        text-align: right;\n",
       "    }\n",
       "</style>\n",
       "<table border=\"1\" class=\"dataframe\">\n",
       "  <thead>\n",
       "    <tr style=\"text-align: right;\">\n",
       "      <th></th>\n",
       "      <th>AZUL4.SA</th>\n",
       "      <th>COGN3.SA</th>\n",
       "      <th>IGTA3.SA</th>\n",
       "      <th>MRFG3.SA</th>\n",
       "      <th>^IXIC</th>\n",
       "    </tr>\n",
       "  </thead>\n",
       "  <tbody>\n",
       "    <tr>\n",
       "      <th>0</th>\n",
       "      <td>NaN</td>\n",
       "      <td>NaN</td>\n",
       "      <td>NaN</td>\n",
       "      <td>NaN</td>\n",
       "      <td>NaN</td>\n",
       "    </tr>\n",
       "    <tr>\n",
       "      <th>1</th>\n",
       "      <td>0.025000</td>\n",
       "      <td>0.006589</td>\n",
       "      <td>0.001517</td>\n",
       "      <td>0.028674</td>\n",
       "      <td>-0.005217</td>\n",
       "    </tr>\n",
       "    <tr>\n",
       "      <th>2</th>\n",
       "      <td>0.001307</td>\n",
       "      <td>-0.016000</td>\n",
       "      <td>0.000000</td>\n",
       "      <td>-0.012195</td>\n",
       "      <td>-0.005313</td>\n",
       "    </tr>\n",
       "    <tr>\n",
       "      <th>3</th>\n",
       "      <td>-0.006090</td>\n",
       "      <td>0.039172</td>\n",
       "      <td>0.026970</td>\n",
       "      <td>0.029982</td>\n",
       "      <td>0.008896</td>\n",
       "    </tr>\n",
       "    <tr>\n",
       "      <th>4</th>\n",
       "      <td>0.046389</td>\n",
       "      <td>0.006401</td>\n",
       "      <td>0.000295</td>\n",
       "      <td>0.039384</td>\n",
       "      <td>-0.001250</td>\n",
       "    </tr>\n",
       "    <tr>\n",
       "      <th>...</th>\n",
       "      <td>...</td>\n",
       "      <td>...</td>\n",
       "      <td>...</td>\n",
       "      <td>...</td>\n",
       "      <td>...</td>\n",
       "    </tr>\n",
       "    <tr>\n",
       "      <th>1086</th>\n",
       "      <td>0.009536</td>\n",
       "      <td>-0.002941</td>\n",
       "      <td>0.011949</td>\n",
       "      <td>0.001908</td>\n",
       "      <td>0.012290</td>\n",
       "    </tr>\n",
       "    <tr>\n",
       "      <th>1087</th>\n",
       "      <td>-0.032678</td>\n",
       "      <td>-0.038348</td>\n",
       "      <td>-0.020804</td>\n",
       "      <td>-0.001429</td>\n",
       "      <td>0.009015</td>\n",
       "    </tr>\n",
       "    <tr>\n",
       "      <th>1088</th>\n",
       "      <td>-0.004223</td>\n",
       "      <td>-0.015337</td>\n",
       "      <td>-0.018375</td>\n",
       "      <td>-0.022890</td>\n",
       "      <td>-0.000436</td>\n",
       "    </tr>\n",
       "    <tr>\n",
       "      <th>1089</th>\n",
       "      <td>0.001325</td>\n",
       "      <td>-0.018692</td>\n",
       "      <td>-0.017257</td>\n",
       "      <td>0.048804</td>\n",
       "      <td>0.003286</td>\n",
       "    </tr>\n",
       "    <tr>\n",
       "      <th>1090</th>\n",
       "      <td>-0.017470</td>\n",
       "      <td>-0.028571</td>\n",
       "      <td>-0.033333</td>\n",
       "      <td>-0.021405</td>\n",
       "      <td>0.001424</td>\n",
       "    </tr>\n",
       "  </tbody>\n",
       "</table>\n",
       "<p>1091 rows × 5 columns</p>\n",
       "</div>"
      ],
      "text/plain": [
       "      AZUL4.SA  COGN3.SA  IGTA3.SA  MRFG3.SA     ^IXIC\n",
       "0          NaN       NaN       NaN       NaN       NaN\n",
       "1     0.025000  0.006589  0.001517  0.028674 -0.005217\n",
       "2     0.001307 -0.016000  0.000000 -0.012195 -0.005313\n",
       "3    -0.006090  0.039172  0.026970  0.029982  0.008896\n",
       "4     0.046389  0.006401  0.000295  0.039384 -0.001250\n",
       "...        ...       ...       ...       ...       ...\n",
       "1086  0.009536 -0.002941  0.011949  0.001908  0.012290\n",
       "1087 -0.032678 -0.038348 -0.020804 -0.001429  0.009015\n",
       "1088 -0.004223 -0.015337 -0.018375 -0.022890 -0.000436\n",
       "1089  0.001325 -0.018692 -0.017257  0.048804  0.003286\n",
       "1090 -0.017470 -0.028571 -0.033333 -0.021405  0.001424\n",
       "\n",
       "[1091 rows x 5 columns]"
      ]
     },
     "execution_count": 71,
     "metadata": {},
     "output_type": "execute_result"
    }
   ],
   "source": [
    "taxas_retorno"
   ]
  },
  {
   "cell_type": "code",
   "execution_count": 73,
   "id": "29e510bf",
   "metadata": {},
   "outputs": [
    {
     "data": {
      "text/html": [
       "<div>\n",
       "<style scoped>\n",
       "    .dataframe tbody tr th:only-of-type {\n",
       "        vertical-align: middle;\n",
       "    }\n",
       "\n",
       "    .dataframe tbody tr th {\n",
       "        vertical-align: top;\n",
       "    }\n",
       "\n",
       "    .dataframe thead th {\n",
       "        text-align: right;\n",
       "    }\n",
       "</style>\n",
       "<table border=\"1\" class=\"dataframe\">\n",
       "  <thead>\n",
       "    <tr style=\"text-align: right;\">\n",
       "      <th></th>\n",
       "      <th>AZUL4.SA</th>\n",
       "      <th>COGN3.SA</th>\n",
       "    </tr>\n",
       "  </thead>\n",
       "  <tbody>\n",
       "    <tr>\n",
       "      <th>0</th>\n",
       "      <td>NaN</td>\n",
       "      <td>NaN</td>\n",
       "    </tr>\n",
       "    <tr>\n",
       "      <th>1</th>\n",
       "      <td>0.025000</td>\n",
       "      <td>0.006589</td>\n",
       "    </tr>\n",
       "    <tr>\n",
       "      <th>2</th>\n",
       "      <td>0.001307</td>\n",
       "      <td>-0.016000</td>\n",
       "    </tr>\n",
       "    <tr>\n",
       "      <th>3</th>\n",
       "      <td>-0.006090</td>\n",
       "      <td>0.039172</td>\n",
       "    </tr>\n",
       "    <tr>\n",
       "      <th>4</th>\n",
       "      <td>0.046389</td>\n",
       "      <td>0.006401</td>\n",
       "    </tr>\n",
       "    <tr>\n",
       "      <th>...</th>\n",
       "      <td>...</td>\n",
       "      <td>...</td>\n",
       "    </tr>\n",
       "    <tr>\n",
       "      <th>1086</th>\n",
       "      <td>0.009536</td>\n",
       "      <td>-0.002941</td>\n",
       "    </tr>\n",
       "    <tr>\n",
       "      <th>1087</th>\n",
       "      <td>-0.032678</td>\n",
       "      <td>-0.038348</td>\n",
       "    </tr>\n",
       "    <tr>\n",
       "      <th>1088</th>\n",
       "      <td>-0.004223</td>\n",
       "      <td>-0.015337</td>\n",
       "    </tr>\n",
       "    <tr>\n",
       "      <th>1089</th>\n",
       "      <td>0.001325</td>\n",
       "      <td>-0.018692</td>\n",
       "    </tr>\n",
       "    <tr>\n",
       "      <th>1090</th>\n",
       "      <td>-0.017470</td>\n",
       "      <td>-0.028571</td>\n",
       "    </tr>\n",
       "  </tbody>\n",
       "</table>\n",
       "<p>1091 rows × 2 columns</p>\n",
       "</div>"
      ],
      "text/plain": [
       "      AZUL4.SA  COGN3.SA\n",
       "0          NaN       NaN\n",
       "1     0.025000  0.006589\n",
       "2     0.001307 -0.016000\n",
       "3    -0.006090  0.039172\n",
       "4     0.046389  0.006401\n",
       "...        ...       ...\n",
       "1086  0.009536 -0.002941\n",
       "1087 -0.032678 -0.038348\n",
       "1088 -0.004223 -0.015337\n",
       "1089  0.001325 -0.018692\n",
       "1090 -0.017470 -0.028571\n",
       "\n",
       "[1091 rows x 2 columns]"
      ]
     },
     "execution_count": 73,
     "metadata": {},
     "output_type": "execute_result"
    }
   ],
   "source": [
    "taxas_retorno_AZUL_COGN = taxas_retorno.drop(columns = [\"IGTA3.SA\",\"MRFG3.SA\", \"^IXIC\"])\n",
    "taxas_retorno_AZUL_COGN"
   ]
  },
  {
   "cell_type": "code",
   "execution_count": 74,
   "id": "faaa0e2d",
   "metadata": {
    "scrolled": true
   },
   "outputs": [
    {
     "data": {
      "text/html": [
       "<div>\n",
       "<style scoped>\n",
       "    .dataframe tbody tr th:only-of-type {\n",
       "        vertical-align: middle;\n",
       "    }\n",
       "\n",
       "    .dataframe tbody tr th {\n",
       "        vertical-align: top;\n",
       "    }\n",
       "\n",
       "    .dataframe thead th {\n",
       "        text-align: right;\n",
       "    }\n",
       "</style>\n",
       "<table border=\"1\" class=\"dataframe\">\n",
       "  <thead>\n",
       "    <tr style=\"text-align: right;\">\n",
       "      <th></th>\n",
       "      <th>AZUL4.SA</th>\n",
       "      <th>COGN3.SA</th>\n",
       "    </tr>\n",
       "  </thead>\n",
       "  <tbody>\n",
       "    <tr>\n",
       "      <th>AZUL4.SA</th>\n",
       "      <td>0.001639</td>\n",
       "      <td>0.000738</td>\n",
       "    </tr>\n",
       "    <tr>\n",
       "      <th>COGN3.SA</th>\n",
       "      <td>0.000738</td>\n",
       "      <td>0.001163</td>\n",
       "    </tr>\n",
       "  </tbody>\n",
       "</table>\n",
       "</div>"
      ],
      "text/plain": [
       "          AZUL4.SA  COGN3.SA\n",
       "AZUL4.SA  0.001639  0.000738\n",
       "COGN3.SA  0.000738  0.001163"
      ]
     },
     "execution_count": 74,
     "metadata": {},
     "output_type": "execute_result"
    }
   ],
   "source": [
    "taxas_retorno_AZUL_COGN.cov()"
   ]
  },
  {
   "cell_type": "code",
   "execution_count": 76,
   "id": "e306fd5e",
   "metadata": {},
   "outputs": [],
   "source": [
    "pesos = np.array([0.5, 0.5])"
   ]
  },
  {
   "cell_type": "code",
   "execution_count": 77,
   "id": "28a33327",
   "metadata": {},
   "outputs": [
    {
     "data": {
      "text/plain": [
       "array([0.29943131, 0.23952586])"
      ]
     },
     "execution_count": 77,
     "metadata": {},
     "output_type": "execute_result"
    }
   ],
   "source": [
    "np.dot(taxas_retorno_AZUL_COGN.cov()*252, pesos)"
   ]
  },
  {
   "cell_type": "code",
   "execution_count": 78,
   "id": "13e3d05a",
   "metadata": {},
   "outputs": [
    {
     "data": {
      "text/plain": [
       "0.26947858344382225"
      ]
     },
     "execution_count": 78,
     "metadata": {},
     "output_type": "execute_result"
    }
   ],
   "source": [
    "np.dot(pesos, np.dot(taxas_retorno_AZUL_COGN.cov() * 252, pesos))"
   ]
  },
  {
   "cell_type": "code",
   "execution_count": 79,
   "id": "2d3a7030",
   "metadata": {},
   "outputs": [
    {
     "data": {
      "text/plain": [
       "51.91132664879816"
      ]
     },
     "execution_count": 79,
     "metadata": {},
     "output_type": "execute_result"
    }
   ],
   "source": [
    "math.sqrt(np.dot(pesos, np.dot(taxas_retorno_AZUL_COGN.cov() * 252, pesos))) * 100"
   ]
  },
  {
   "cell_type": "markdown",
   "id": "ed7ca37e",
   "metadata": {},
   "source": [
    "## Todas as Ações"
   ]
  },
  {
   "cell_type": "code",
   "execution_count": 80,
   "id": "6498a727",
   "metadata": {},
   "outputs": [
    {
     "data": {
      "text/plain": [
       "Index(['AZUL4.SA', 'COGN3.SA', 'IGTA3.SA', 'MRFG3.SA', '^IXIC'], dtype='object')"
      ]
     },
     "execution_count": 80,
     "metadata": {},
     "output_type": "execute_result"
    }
   ],
   "source": [
    "dataset.columns"
   ]
  },
  {
   "cell_type": "code",
   "execution_count": 81,
   "id": "79f57d22",
   "metadata": {},
   "outputs": [],
   "source": [
    "pesos_c = np.array([0.25, 0.25, 0.25, 0.25, 0.0])"
   ]
  },
  {
   "cell_type": "code",
   "execution_count": 82,
   "id": "b793bd89",
   "metadata": {},
   "outputs": [
    {
     "data": {
      "text/plain": [
       "1.0"
      ]
     },
     "execution_count": 82,
     "metadata": {},
     "output_type": "execute_result"
    }
   ],
   "source": [
    "pesos_c.sum()"
   ]
  },
  {
   "cell_type": "code",
   "execution_count": 83,
   "id": "72c804d4",
   "metadata": {},
   "outputs": [
    {
     "data": {
      "text/html": [
       "<div>\n",
       "<style scoped>\n",
       "    .dataframe tbody tr th:only-of-type {\n",
       "        vertical-align: middle;\n",
       "    }\n",
       "\n",
       "    .dataframe tbody tr th {\n",
       "        vertical-align: top;\n",
       "    }\n",
       "\n",
       "    .dataframe thead th {\n",
       "        text-align: right;\n",
       "    }\n",
       "</style>\n",
       "<table border=\"1\" class=\"dataframe\">\n",
       "  <thead>\n",
       "    <tr style=\"text-align: right;\">\n",
       "      <th></th>\n",
       "      <th>AZUL4.SA</th>\n",
       "      <th>COGN3.SA</th>\n",
       "      <th>IGTA3.SA</th>\n",
       "      <th>MRFG3.SA</th>\n",
       "      <th>^IXIC</th>\n",
       "    </tr>\n",
       "  </thead>\n",
       "  <tbody>\n",
       "    <tr>\n",
       "      <th>AZUL4.SA</th>\n",
       "      <td>0.412931</td>\n",
       "      <td>0.185932</td>\n",
       "      <td>0.160594</td>\n",
       "      <td>0.102515</td>\n",
       "      <td>0.065784</td>\n",
       "    </tr>\n",
       "    <tr>\n",
       "      <th>COGN3.SA</th>\n",
       "      <td>0.185932</td>\n",
       "      <td>0.293120</td>\n",
       "      <td>0.126374</td>\n",
       "      <td>0.079576</td>\n",
       "      <td>0.045765</td>\n",
       "    </tr>\n",
       "    <tr>\n",
       "      <th>IGTA3.SA</th>\n",
       "      <td>0.160594</td>\n",
       "      <td>0.126374</td>\n",
       "      <td>0.164106</td>\n",
       "      <td>0.066581</td>\n",
       "      <td>0.040625</td>\n",
       "    </tr>\n",
       "    <tr>\n",
       "      <th>MRFG3.SA</th>\n",
       "      <td>0.102515</td>\n",
       "      <td>0.079576</td>\n",
       "      <td>0.066581</td>\n",
       "      <td>0.238325</td>\n",
       "      <td>0.044301</td>\n",
       "    </tr>\n",
       "    <tr>\n",
       "      <th>^IXIC</th>\n",
       "      <td>0.065784</td>\n",
       "      <td>0.045765</td>\n",
       "      <td>0.040625</td>\n",
       "      <td>0.044301</td>\n",
       "      <td>0.054354</td>\n",
       "    </tr>\n",
       "  </tbody>\n",
       "</table>\n",
       "</div>"
      ],
      "text/plain": [
       "          AZUL4.SA  COGN3.SA  IGTA3.SA  MRFG3.SA     ^IXIC\n",
       "AZUL4.SA  0.412931  0.185932  0.160594  0.102515  0.065784\n",
       "COGN3.SA  0.185932  0.293120  0.126374  0.079576  0.045765\n",
       "IGTA3.SA  0.160594  0.126374  0.164106  0.066581  0.040625\n",
       "MRFG3.SA  0.102515  0.079576  0.066581  0.238325  0.044301\n",
       "^IXIC     0.065784  0.045765  0.040625  0.044301  0.054354"
      ]
     },
     "execution_count": 83,
     "metadata": {},
     "output_type": "execute_result"
    }
   ],
   "source": [
    "taxas_retorno.cov()*252"
   ]
  },
  {
   "cell_type": "code",
   "execution_count": 84,
   "id": "004b63d1",
   "metadata": {},
   "outputs": [
    {
     "data": {
      "text/plain": [
       "array([0.21549305, 0.17125037, 0.12941387, 0.12174923, 0.04911892])"
      ]
     },
     "execution_count": 84,
     "metadata": {},
     "output_type": "execute_result"
    }
   ],
   "source": [
    "np.dot(taxas_retorno.cov() * 252, pesos_c)"
   ]
  },
  {
   "cell_type": "code",
   "execution_count": 85,
   "id": "9d790b67",
   "metadata": {},
   "outputs": [
    {
     "data": {
      "text/plain": [
       "0.15947662829171017"
      ]
     },
     "execution_count": 85,
     "metadata": {},
     "output_type": "execute_result"
    }
   ],
   "source": [
    "var_port = np.dot(pesos_c, np.dot(taxas_retorno.cov() * 252, pesos_c))\n",
    "var_port"
   ]
  },
  {
   "cell_type": "code",
   "execution_count": 86,
   "id": "667ad8d3",
   "metadata": {},
   "outputs": [
    {
     "data": {
      "text/plain": [
       "0.3993452494918528"
      ]
     },
     "execution_count": 86,
     "metadata": {},
     "output_type": "execute_result"
    }
   ],
   "source": [
    "vol_port = math.sqrt(var_port)\n",
    "vol_port"
   ]
  },
  {
   "cell_type": "code",
   "execution_count": 87,
   "id": "f96029c7",
   "metadata": {},
   "outputs": [],
   "source": [
    "pesos_id = np.array([0.0, 0.0, 0.0, 0.0, 1.0])"
   ]
  },
  {
   "cell_type": "code",
   "execution_count": 88,
   "id": "9235ccbf",
   "metadata": {},
   "outputs": [
    {
     "data": {
      "text/plain": [
       "0.05435432457617255"
      ]
     },
     "execution_count": 88,
     "metadata": {},
     "output_type": "execute_result"
    }
   ],
   "source": [
    "var_port_id = np.dot(pesos_id, np.dot(taxas_retorno.cov() * 252, pesos_id))\n",
    "var_port_id"
   ]
  },
  {
   "cell_type": "code",
   "execution_count": 89,
   "id": "a2a191c5",
   "metadata": {},
   "outputs": [
    {
     "data": {
      "text/plain": [
       "0.23314013935007535"
      ]
     },
     "execution_count": 89,
     "metadata": {},
     "output_type": "execute_result"
    }
   ],
   "source": [
    "vol_port_id = math.sqrt(var_port_id)\n",
    "vol_port_id"
   ]
  },
  {
   "cell_type": "markdown",
   "id": "5742e16b",
   "metadata": {},
   "source": [
    "## Risco sistemático e não sistemático"
   ]
  },
  {
   "cell_type": "code",
   "execution_count": 90,
   "id": "7279868b",
   "metadata": {},
   "outputs": [
    {
     "data": {
      "text/html": [
       "<div>\n",
       "<style scoped>\n",
       "    .dataframe tbody tr th:only-of-type {\n",
       "        vertical-align: middle;\n",
       "    }\n",
       "\n",
       "    .dataframe tbody tr th {\n",
       "        vertical-align: top;\n",
       "    }\n",
       "\n",
       "    .dataframe thead th {\n",
       "        text-align: right;\n",
       "    }\n",
       "</style>\n",
       "<table border=\"1\" class=\"dataframe\">\n",
       "  <thead>\n",
       "    <tr style=\"text-align: right;\">\n",
       "      <th></th>\n",
       "      <th>AZUL4.SA</th>\n",
       "      <th>COGN3.SA</th>\n",
       "      <th>IGTA3.SA</th>\n",
       "      <th>MRFG3.SA</th>\n",
       "      <th>^IXIC</th>\n",
       "    </tr>\n",
       "  </thead>\n",
       "  <tbody>\n",
       "    <tr>\n",
       "      <th>0</th>\n",
       "      <td>NaN</td>\n",
       "      <td>NaN</td>\n",
       "      <td>NaN</td>\n",
       "      <td>NaN</td>\n",
       "      <td>NaN</td>\n",
       "    </tr>\n",
       "    <tr>\n",
       "      <th>1</th>\n",
       "      <td>0.025000</td>\n",
       "      <td>0.006589</td>\n",
       "      <td>0.001517</td>\n",
       "      <td>0.028674</td>\n",
       "      <td>-0.005217</td>\n",
       "    </tr>\n",
       "    <tr>\n",
       "      <th>2</th>\n",
       "      <td>0.001307</td>\n",
       "      <td>-0.016000</td>\n",
       "      <td>0.000000</td>\n",
       "      <td>-0.012195</td>\n",
       "      <td>-0.005313</td>\n",
       "    </tr>\n",
       "    <tr>\n",
       "      <th>3</th>\n",
       "      <td>-0.006090</td>\n",
       "      <td>0.039172</td>\n",
       "      <td>0.026970</td>\n",
       "      <td>0.029982</td>\n",
       "      <td>0.008896</td>\n",
       "    </tr>\n",
       "    <tr>\n",
       "      <th>4</th>\n",
       "      <td>0.046389</td>\n",
       "      <td>0.006401</td>\n",
       "      <td>0.000295</td>\n",
       "      <td>0.039384</td>\n",
       "      <td>-0.001250</td>\n",
       "    </tr>\n",
       "    <tr>\n",
       "      <th>...</th>\n",
       "      <td>...</td>\n",
       "      <td>...</td>\n",
       "      <td>...</td>\n",
       "      <td>...</td>\n",
       "      <td>...</td>\n",
       "    </tr>\n",
       "    <tr>\n",
       "      <th>1086</th>\n",
       "      <td>0.009536</td>\n",
       "      <td>-0.002941</td>\n",
       "      <td>0.011949</td>\n",
       "      <td>0.001908</td>\n",
       "      <td>0.012290</td>\n",
       "    </tr>\n",
       "    <tr>\n",
       "      <th>1087</th>\n",
       "      <td>-0.032678</td>\n",
       "      <td>-0.038348</td>\n",
       "      <td>-0.020804</td>\n",
       "      <td>-0.001429</td>\n",
       "      <td>0.009015</td>\n",
       "    </tr>\n",
       "    <tr>\n",
       "      <th>1088</th>\n",
       "      <td>-0.004223</td>\n",
       "      <td>-0.015337</td>\n",
       "      <td>-0.018375</td>\n",
       "      <td>-0.022890</td>\n",
       "      <td>-0.000436</td>\n",
       "    </tr>\n",
       "    <tr>\n",
       "      <th>1089</th>\n",
       "      <td>0.001325</td>\n",
       "      <td>-0.018692</td>\n",
       "      <td>-0.017257</td>\n",
       "      <td>0.048804</td>\n",
       "      <td>0.003286</td>\n",
       "    </tr>\n",
       "    <tr>\n",
       "      <th>1090</th>\n",
       "      <td>-0.017470</td>\n",
       "      <td>-0.028571</td>\n",
       "      <td>-0.033333</td>\n",
       "      <td>-0.021405</td>\n",
       "      <td>0.001424</td>\n",
       "    </tr>\n",
       "  </tbody>\n",
       "</table>\n",
       "<p>1091 rows × 5 columns</p>\n",
       "</div>"
      ],
      "text/plain": [
       "      AZUL4.SA  COGN3.SA  IGTA3.SA  MRFG3.SA     ^IXIC\n",
       "0          NaN       NaN       NaN       NaN       NaN\n",
       "1     0.025000  0.006589  0.001517  0.028674 -0.005217\n",
       "2     0.001307 -0.016000  0.000000 -0.012195 -0.005313\n",
       "3    -0.006090  0.039172  0.026970  0.029982  0.008896\n",
       "4     0.046389  0.006401  0.000295  0.039384 -0.001250\n",
       "...        ...       ...       ...       ...       ...\n",
       "1086  0.009536 -0.002941  0.011949  0.001908  0.012290\n",
       "1087 -0.032678 -0.038348 -0.020804 -0.001429  0.009015\n",
       "1088 -0.004223 -0.015337 -0.018375 -0.022890 -0.000436\n",
       "1089  0.001325 -0.018692 -0.017257  0.048804  0.003286\n",
       "1090 -0.017470 -0.028571 -0.033333 -0.021405  0.001424\n",
       "\n",
       "[1091 rows x 5 columns]"
      ]
     },
     "execution_count": 90,
     "metadata": {},
     "output_type": "execute_result"
    }
   ],
   "source": [
    "taxas_retorno"
   ]
  },
  {
   "cell_type": "code",
   "execution_count": 91,
   "id": "80a38d2f",
   "metadata": {},
   "outputs": [
    {
     "data": {
      "text/plain": [
       "array([0.25, 0.25, 0.25, 0.25, 0.  ])"
      ]
     },
     "execution_count": 91,
     "metadata": {},
     "output_type": "execute_result"
    }
   ],
   "source": [
    "pesos_c"
   ]
  },
  {
   "cell_type": "code",
   "execution_count": 92,
   "id": "ab67ed60",
   "metadata": {},
   "outputs": [
    {
     "data": {
      "text/plain": [
       "array([0., 0., 0., 0., 1.])"
      ]
     },
     "execution_count": 92,
     "metadata": {},
     "output_type": "execute_result"
    }
   ],
   "source": [
    "pesos_id"
   ]
  },
  {
   "cell_type": "code",
   "execution_count": 93,
   "id": "428ac99a",
   "metadata": {},
   "outputs": [
    {
     "data": {
      "text/plain": [
       "AZUL4.SA    0.412931\n",
       "COGN3.SA    0.293120\n",
       "IGTA3.SA    0.164106\n",
       "MRFG3.SA    0.238325\n",
       "^IXIC       0.054354\n",
       "dtype: float64"
      ]
     },
     "execution_count": 93,
     "metadata": {},
     "output_type": "execute_result"
    }
   ],
   "source": [
    "taxas_retorno.var() * 252"
   ]
  },
  {
   "cell_type": "code",
   "execution_count": 94,
   "id": "214051df",
   "metadata": {},
   "outputs": [
    {
     "data": {
      "text/plain": [
       "AZUL4.SA    0.103233\n",
       "COGN3.SA    0.073280\n",
       "IGTA3.SA    0.041027\n",
       "MRFG3.SA    0.059581\n",
       "^IXIC       0.000000\n",
       "dtype: float64"
      ]
     },
     "execution_count": 94,
     "metadata": {},
     "output_type": "execute_result"
    }
   ],
   "source": [
    "var_pesos_c= (taxas_retorno.var() * 252) * pesos_c\n",
    "var_pesos_c"
   ]
  },
  {
   "cell_type": "code",
   "execution_count": 96,
   "id": "664ba246",
   "metadata": {},
   "outputs": [
    {
     "data": {
      "text/plain": [
       "-0.07065510243596206"
      ]
     },
     "execution_count": 96,
     "metadata": {},
     "output_type": "execute_result"
    }
   ],
   "source": [
    "sub_c = var_pesos_c[0] - var_pesos_c[1] - var_pesos_c[2] - var_pesos_c[3] - var_pesos_c[4]\n",
    "sub_c"
   ]
  },
  {
   "cell_type": "code",
   "execution_count": 97,
   "id": "c92c72b3",
   "metadata": {},
   "outputs": [
    {
     "data": {
      "text/plain": [
       "0.15947662829171017"
      ]
     },
     "execution_count": 97,
     "metadata": {},
     "output_type": "execute_result"
    }
   ],
   "source": [
    "var_port"
   ]
  },
  {
   "cell_type": "code",
   "execution_count": 98,
   "id": "82c8928b",
   "metadata": {},
   "outputs": [
    {
     "data": {
      "text/plain": [
       "0.23013173072767223"
      ]
     },
     "execution_count": 98,
     "metadata": {},
     "output_type": "execute_result"
    }
   ],
   "source": [
    "risco_nao_sistemico1 = (var_port - sub_c)\n",
    "risco_nao_sistemico1"
   ]
  },
  {
   "cell_type": "code",
   "execution_count": 99,
   "id": "9b90f319",
   "metadata": {},
   "outputs": [
    {
     "data": {
      "text/plain": [
       "AZUL4.SA    0.000000\n",
       "COGN3.SA    0.000000\n",
       "IGTA3.SA    0.000000\n",
       "MRFG3.SA    0.000000\n",
       "^IXIC       0.054354\n",
       "dtype: float64"
      ]
     },
     "execution_count": 99,
     "metadata": {},
     "output_type": "execute_result"
    }
   ],
   "source": [
    "variancia_pesos_id = (taxas_retorno.var() * 252) * pesos_id\n",
    "variancia_pesos_id"
   ]
  },
  {
   "cell_type": "code",
   "execution_count": 100,
   "id": "671c4816",
   "metadata": {},
   "outputs": [
    {
     "data": {
      "text/plain": [
       "-0.054354324576172584"
      ]
     },
     "execution_count": 100,
     "metadata": {},
     "output_type": "execute_result"
    }
   ],
   "source": [
    "sub_id = variancia_pesos_id[0] - variancia_pesos_id[1] - variancia_pesos_id[2] - variancia_pesos_id[3] - variancia_pesos_id[4]\n",
    "sub_id"
   ]
  },
  {
   "cell_type": "code",
   "execution_count": 101,
   "id": "86344844",
   "metadata": {},
   "outputs": [
    {
     "data": {
      "text/plain": [
       "0.05435432457617255"
      ]
     },
     "execution_count": 101,
     "metadata": {},
     "output_type": "execute_result"
    }
   ],
   "source": [
    "var_port_id"
   ]
  },
  {
   "cell_type": "code",
   "execution_count": 102,
   "id": "86029a12",
   "metadata": {},
   "outputs": [
    {
     "data": {
      "text/plain": [
       "0.10870864915234513"
      ]
     },
     "execution_count": 102,
     "metadata": {},
     "output_type": "execute_result"
    }
   ],
   "source": [
    "risco_nao_sistemico2 = (var_port_id - sub_id)\n",
    "risco_nao_sistemico2"
   ]
  }
 ],
 "metadata": {
  "kernelspec": {
   "display_name": "Python 3",
   "language": "python",
   "name": "python3"
  },
  "language_info": {
   "codemirror_mode": {
    "name": "ipython",
    "version": 3
   },
   "file_extension": ".py",
   "mimetype": "text/x-python",
   "name": "python",
   "nbconvert_exporter": "python",
   "pygments_lexer": "ipython3",
   "version": "3.8.8"
  }
 },
 "nbformat": 4,
 "nbformat_minor": 5
}
